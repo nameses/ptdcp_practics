{
 "cells": [
  {
   "cell_type": "code",
   "execution_count": 1,
   "id": "initial_id",
   "metadata": {
    "collapsed": true,
    "ExecuteTime": {
     "end_time": "2024-02-24T12:49:49.371534200Z",
     "start_time": "2024-02-24T12:49:49.068855700Z"
    }
   },
   "outputs": [],
   "source": [
    "import numpy as np"
   ]
  },
  {
   "cell_type": "code",
   "outputs": [],
   "source": [
    "import pandas as pd"
   ],
   "metadata": {
    "collapsed": false,
    "ExecuteTime": {
     "end_time": "2024-02-24T12:50:06.389486600Z",
     "start_time": "2024-02-24T12:50:05.506781700Z"
    }
   },
   "id": "ff4462d0b8bea3e7",
   "execution_count": 2
  },
  {
   "cell_type": "code",
   "outputs": [
    {
     "data": {
      "text/plain": "       Country  HDI  Beer_PerCapita\n0      Denmark  928             224\n1  Switzerland  943             185\n2      Iceland  933             233\n3       Norway  951             169\n4      Finland  918             263",
      "text/html": "<div>\n<style scoped>\n    .dataframe tbody tr th:only-of-type {\n        vertical-align: middle;\n    }\n\n    .dataframe tbody tr th {\n        vertical-align: top;\n    }\n\n    .dataframe thead th {\n        text-align: right;\n    }\n</style>\n<table border=\"1\" class=\"dataframe\">\n  <thead>\n    <tr style=\"text-align: right;\">\n      <th></th>\n      <th>Country</th>\n      <th>HDI</th>\n      <th>Beer_PerCapita</th>\n    </tr>\n  </thead>\n  <tbody>\n    <tr>\n      <th>0</th>\n      <td>Denmark</td>\n      <td>928</td>\n      <td>224</td>\n    </tr>\n    <tr>\n      <th>1</th>\n      <td>Switzerland</td>\n      <td>943</td>\n      <td>185</td>\n    </tr>\n    <tr>\n      <th>2</th>\n      <td>Iceland</td>\n      <td>933</td>\n      <td>233</td>\n    </tr>\n    <tr>\n      <th>3</th>\n      <td>Norway</td>\n      <td>951</td>\n      <td>169</td>\n    </tr>\n    <tr>\n      <th>4</th>\n      <td>Finland</td>\n      <td>918</td>\n      <td>263</td>\n    </tr>\n  </tbody>\n</table>\n</div>"
     },
     "execution_count": 14,
     "metadata": {},
     "output_type": "execute_result"
    }
   ],
   "source": [
    "pure_data = pd.read_csv('HappinessAlcoholConsumption.csv',delimiter=',')\n",
    "pure_data[['Country','HDI','Beer_PerCapita']].head()"
   ],
   "metadata": {
    "collapsed": false,
    "ExecuteTime": {
     "end_time": "2024-02-24T12:59:34.812066500Z",
     "start_time": "2024-02-24T12:59:34.798835200Z"
    }
   },
   "id": "91b7a9a1e2b07e04",
   "execution_count": 14
  },
  {
   "cell_type": "code",
   "outputs": [
    {
     "data": {
      "text/plain": "      Country                           Region Hemisphere  HappinessScore  \\\n117  Tanzania               Sub-Saharan Africa      south           3.666   \n118   Liberia               Sub-Saharan Africa      north           3.622   \n119     Benin               Sub-Saharan Africa      north           3.484   \n120      Togo               Sub-Saharan Africa      north           3.303   \n121     Syria  Middle East and Northern Africa      north           3.069   \n\n     HDI  GDP_PerCapita  Beer_PerCapita  Spirit_PerCapita  Wine_PerCapita  \n117  533        878.000              36                 6               1  \n118  432        455.000              19               152               2  \n119  512        789.000              34                 4              13  \n120  500        577.000              36                 2              19  \n121  536          2.058               5                35              16  ",
      "text/html": "<div>\n<style scoped>\n    .dataframe tbody tr th:only-of-type {\n        vertical-align: middle;\n    }\n\n    .dataframe tbody tr th {\n        vertical-align: top;\n    }\n\n    .dataframe thead th {\n        text-align: right;\n    }\n</style>\n<table border=\"1\" class=\"dataframe\">\n  <thead>\n    <tr style=\"text-align: right;\">\n      <th></th>\n      <th>Country</th>\n      <th>Region</th>\n      <th>Hemisphere</th>\n      <th>HappinessScore</th>\n      <th>HDI</th>\n      <th>GDP_PerCapita</th>\n      <th>Beer_PerCapita</th>\n      <th>Spirit_PerCapita</th>\n      <th>Wine_PerCapita</th>\n    </tr>\n  </thead>\n  <tbody>\n    <tr>\n      <th>117</th>\n      <td>Tanzania</td>\n      <td>Sub-Saharan Africa</td>\n      <td>south</td>\n      <td>3.666</td>\n      <td>533</td>\n      <td>878.000</td>\n      <td>36</td>\n      <td>6</td>\n      <td>1</td>\n    </tr>\n    <tr>\n      <th>118</th>\n      <td>Liberia</td>\n      <td>Sub-Saharan Africa</td>\n      <td>north</td>\n      <td>3.622</td>\n      <td>432</td>\n      <td>455.000</td>\n      <td>19</td>\n      <td>152</td>\n      <td>2</td>\n    </tr>\n    <tr>\n      <th>119</th>\n      <td>Benin</td>\n      <td>Sub-Saharan Africa</td>\n      <td>north</td>\n      <td>3.484</td>\n      <td>512</td>\n      <td>789.000</td>\n      <td>34</td>\n      <td>4</td>\n      <td>13</td>\n    </tr>\n    <tr>\n      <th>120</th>\n      <td>Togo</td>\n      <td>Sub-Saharan Africa</td>\n      <td>north</td>\n      <td>3.303</td>\n      <td>500</td>\n      <td>577.000</td>\n      <td>36</td>\n      <td>2</td>\n      <td>19</td>\n    </tr>\n    <tr>\n      <th>121</th>\n      <td>Syria</td>\n      <td>Middle East and Northern Africa</td>\n      <td>north</td>\n      <td>3.069</td>\n      <td>536</td>\n      <td>2.058</td>\n      <td>5</td>\n      <td>35</td>\n      <td>16</td>\n    </tr>\n  </tbody>\n</table>\n</div>"
     },
     "execution_count": 7,
     "metadata": {},
     "output_type": "execute_result"
    }
   ],
   "source": [
    "pure_data.tail()"
   ],
   "metadata": {
    "collapsed": false,
    "ExecuteTime": {
     "end_time": "2024-02-24T12:57:39.091219Z",
     "start_time": "2024-02-24T12:57:39.076777600Z"
    }
   },
   "id": "982d4702c2ca2ac0",
   "execution_count": 7
  },
  {
   "cell_type": "code",
   "outputs": [
    {
     "data": {
      "text/plain": "0          Denmark\n1      Switzerland\n2          Iceland\n3           Norway\n4          Finland\n          ...     \n117       Tanzania\n118        Liberia\n119          Benin\n120           Togo\n121          Syria\nName: Country, Length: 122, dtype: object"
     },
     "execution_count": 15,
     "metadata": {},
     "output_type": "execute_result"
    }
   ],
   "source": [
    "pure_data.Country"
   ],
   "metadata": {
    "collapsed": false,
    "ExecuteTime": {
     "end_time": "2024-02-24T13:00:34.546873200Z",
     "start_time": "2024-02-24T13:00:34.533400200Z"
    }
   },
   "id": "19337084e91594f2",
   "execution_count": 15
  },
  {
   "cell_type": "code",
   "outputs": [
    {
     "name": "stderr",
     "output_type": "stream",
     "text": [
      "C:\\Users\\maksp\\AppData\\Local\\Temp\\ipykernel_37384\\2499385653.py:1: UserWarning: Boolean Series key will be reindexed to match DataFrame index.\n",
      "  pure_data[pure_data.Beer_PerCapita>200][pure_data.Spirit_PerCapita>100][['Country','Beer_PerCapita','Spirit_PerCapita']]\n"
     ]
    },
    {
     "data": {
      "text/plain": "                Country  Beer_PerCapita  Spirit_PerCapita\n4               Finland             263               133\n5                Canada             240               122\n12        United States             249               158\n14              Germany             346               117\n15               Brazil             245               145\n17              Ireland             313               118\n18           Luxembourg             236               133\n21       United Kingdom             219               126\n23               Panama             285               104\n25       Czech Republic             361               170\n33                Spain             284               157\n45               Belize             263               114\n49   Russian Federation             247               326\n50               Poland             343               215\n53            Lithuania             343               244\n59               Latvia             281               216\n61             Paraguay             213               117\n62              Romania             297               122\n63              Estonia             224               194\n72               Serbia             283               131\n77              Hungary             234               215\n96              Ukraine             206               237\n102            Bulgaria             231               252",
      "text/html": "<div>\n<style scoped>\n    .dataframe tbody tr th:only-of-type {\n        vertical-align: middle;\n    }\n\n    .dataframe tbody tr th {\n        vertical-align: top;\n    }\n\n    .dataframe thead th {\n        text-align: right;\n    }\n</style>\n<table border=\"1\" class=\"dataframe\">\n  <thead>\n    <tr style=\"text-align: right;\">\n      <th></th>\n      <th>Country</th>\n      <th>Beer_PerCapita</th>\n      <th>Spirit_PerCapita</th>\n    </tr>\n  </thead>\n  <tbody>\n    <tr>\n      <th>4</th>\n      <td>Finland</td>\n      <td>263</td>\n      <td>133</td>\n    </tr>\n    <tr>\n      <th>5</th>\n      <td>Canada</td>\n      <td>240</td>\n      <td>122</td>\n    </tr>\n    <tr>\n      <th>12</th>\n      <td>United States</td>\n      <td>249</td>\n      <td>158</td>\n    </tr>\n    <tr>\n      <th>14</th>\n      <td>Germany</td>\n      <td>346</td>\n      <td>117</td>\n    </tr>\n    <tr>\n      <th>15</th>\n      <td>Brazil</td>\n      <td>245</td>\n      <td>145</td>\n    </tr>\n    <tr>\n      <th>17</th>\n      <td>Ireland</td>\n      <td>313</td>\n      <td>118</td>\n    </tr>\n    <tr>\n      <th>18</th>\n      <td>Luxembourg</td>\n      <td>236</td>\n      <td>133</td>\n    </tr>\n    <tr>\n      <th>21</th>\n      <td>United Kingdom</td>\n      <td>219</td>\n      <td>126</td>\n    </tr>\n    <tr>\n      <th>23</th>\n      <td>Panama</td>\n      <td>285</td>\n      <td>104</td>\n    </tr>\n    <tr>\n      <th>25</th>\n      <td>Czech Republic</td>\n      <td>361</td>\n      <td>170</td>\n    </tr>\n    <tr>\n      <th>33</th>\n      <td>Spain</td>\n      <td>284</td>\n      <td>157</td>\n    </tr>\n    <tr>\n      <th>45</th>\n      <td>Belize</td>\n      <td>263</td>\n      <td>114</td>\n    </tr>\n    <tr>\n      <th>49</th>\n      <td>Russian Federation</td>\n      <td>247</td>\n      <td>326</td>\n    </tr>\n    <tr>\n      <th>50</th>\n      <td>Poland</td>\n      <td>343</td>\n      <td>215</td>\n    </tr>\n    <tr>\n      <th>53</th>\n      <td>Lithuania</td>\n      <td>343</td>\n      <td>244</td>\n    </tr>\n    <tr>\n      <th>59</th>\n      <td>Latvia</td>\n      <td>281</td>\n      <td>216</td>\n    </tr>\n    <tr>\n      <th>61</th>\n      <td>Paraguay</td>\n      <td>213</td>\n      <td>117</td>\n    </tr>\n    <tr>\n      <th>62</th>\n      <td>Romania</td>\n      <td>297</td>\n      <td>122</td>\n    </tr>\n    <tr>\n      <th>63</th>\n      <td>Estonia</td>\n      <td>224</td>\n      <td>194</td>\n    </tr>\n    <tr>\n      <th>72</th>\n      <td>Serbia</td>\n      <td>283</td>\n      <td>131</td>\n    </tr>\n    <tr>\n      <th>77</th>\n      <td>Hungary</td>\n      <td>234</td>\n      <td>215</td>\n    </tr>\n    <tr>\n      <th>96</th>\n      <td>Ukraine</td>\n      <td>206</td>\n      <td>237</td>\n    </tr>\n    <tr>\n      <th>102</th>\n      <td>Bulgaria</td>\n      <td>231</td>\n      <td>252</td>\n    </tr>\n  </tbody>\n</table>\n</div>"
     },
     "execution_count": 47,
     "metadata": {},
     "output_type": "execute_result"
    }
   ],
   "source": [
    "pure_data[pure_data.Beer_PerCapita>200][pure_data.Spirit_PerCapita>100][['Country','Beer_PerCapita','Spirit_PerCapita']]"
   ],
   "metadata": {
    "collapsed": false,
    "ExecuteTime": {
     "end_time": "2024-02-24T13:27:41.596781600Z",
     "start_time": "2024-02-24T13:27:41.587269600Z"
    }
   },
   "id": "54901255c083cc44",
   "execution_count": 47
  },
  {
   "cell_type": "code",
   "outputs": [
    {
     "data": {
      "text/plain": "                Country  Beer_PerCapita  Spirit_PerCapita\n4               Finland             263               133\n5                Canada             240               122\n12        United States             249               158\n14              Germany             346               117\n15               Brazil             245               145\n17              Ireland             313               118\n18           Luxembourg             236               133\n21       United Kingdom             219               126\n23               Panama             285               104\n25       Czech Republic             361               170\n33                Spain             284               157\n45               Belize             263               114\n49   Russian Federation             247               326\n50               Poland             343               215\n53            Lithuania             343               244\n59               Latvia             281               216\n61             Paraguay             213               117\n62              Romania             297               122\n63              Estonia             224               194\n72               Serbia             283               131\n77              Hungary             234               215\n96              Ukraine             206               237\n102            Bulgaria             231               252",
      "text/html": "<div>\n<style scoped>\n    .dataframe tbody tr th:only-of-type {\n        vertical-align: middle;\n    }\n\n    .dataframe tbody tr th {\n        vertical-align: top;\n    }\n\n    .dataframe thead th {\n        text-align: right;\n    }\n</style>\n<table border=\"1\" class=\"dataframe\">\n  <thead>\n    <tr style=\"text-align: right;\">\n      <th></th>\n      <th>Country</th>\n      <th>Beer_PerCapita</th>\n      <th>Spirit_PerCapita</th>\n    </tr>\n  </thead>\n  <tbody>\n    <tr>\n      <th>4</th>\n      <td>Finland</td>\n      <td>263</td>\n      <td>133</td>\n    </tr>\n    <tr>\n      <th>5</th>\n      <td>Canada</td>\n      <td>240</td>\n      <td>122</td>\n    </tr>\n    <tr>\n      <th>12</th>\n      <td>United States</td>\n      <td>249</td>\n      <td>158</td>\n    </tr>\n    <tr>\n      <th>14</th>\n      <td>Germany</td>\n      <td>346</td>\n      <td>117</td>\n    </tr>\n    <tr>\n      <th>15</th>\n      <td>Brazil</td>\n      <td>245</td>\n      <td>145</td>\n    </tr>\n    <tr>\n      <th>17</th>\n      <td>Ireland</td>\n      <td>313</td>\n      <td>118</td>\n    </tr>\n    <tr>\n      <th>18</th>\n      <td>Luxembourg</td>\n      <td>236</td>\n      <td>133</td>\n    </tr>\n    <tr>\n      <th>21</th>\n      <td>United Kingdom</td>\n      <td>219</td>\n      <td>126</td>\n    </tr>\n    <tr>\n      <th>23</th>\n      <td>Panama</td>\n      <td>285</td>\n      <td>104</td>\n    </tr>\n    <tr>\n      <th>25</th>\n      <td>Czech Republic</td>\n      <td>361</td>\n      <td>170</td>\n    </tr>\n    <tr>\n      <th>33</th>\n      <td>Spain</td>\n      <td>284</td>\n      <td>157</td>\n    </tr>\n    <tr>\n      <th>45</th>\n      <td>Belize</td>\n      <td>263</td>\n      <td>114</td>\n    </tr>\n    <tr>\n      <th>49</th>\n      <td>Russian Federation</td>\n      <td>247</td>\n      <td>326</td>\n    </tr>\n    <tr>\n      <th>50</th>\n      <td>Poland</td>\n      <td>343</td>\n      <td>215</td>\n    </tr>\n    <tr>\n      <th>53</th>\n      <td>Lithuania</td>\n      <td>343</td>\n      <td>244</td>\n    </tr>\n    <tr>\n      <th>59</th>\n      <td>Latvia</td>\n      <td>281</td>\n      <td>216</td>\n    </tr>\n    <tr>\n      <th>61</th>\n      <td>Paraguay</td>\n      <td>213</td>\n      <td>117</td>\n    </tr>\n    <tr>\n      <th>62</th>\n      <td>Romania</td>\n      <td>297</td>\n      <td>122</td>\n    </tr>\n    <tr>\n      <th>63</th>\n      <td>Estonia</td>\n      <td>224</td>\n      <td>194</td>\n    </tr>\n    <tr>\n      <th>72</th>\n      <td>Serbia</td>\n      <td>283</td>\n      <td>131</td>\n    </tr>\n    <tr>\n      <th>77</th>\n      <td>Hungary</td>\n      <td>234</td>\n      <td>215</td>\n    </tr>\n    <tr>\n      <th>96</th>\n      <td>Ukraine</td>\n      <td>206</td>\n      <td>237</td>\n    </tr>\n    <tr>\n      <th>102</th>\n      <td>Bulgaria</td>\n      <td>231</td>\n      <td>252</td>\n    </tr>\n  </tbody>\n</table>\n</div>"
     },
     "execution_count": 50,
     "metadata": {},
     "output_type": "execute_result"
    }
   ],
   "source": [
    "pure_data.loc[(pure_data.Beer_PerCapita>200) & (pure_data.Spirit_PerCapita>100),['Country','Beer_PerCapita','Spirit_PerCapita']]"
   ],
   "metadata": {
    "collapsed": false,
    "ExecuteTime": {
     "end_time": "2024-02-24T13:29:52.512546700Z",
     "start_time": "2024-02-24T13:29:52.505795100Z"
    }
   },
   "id": "d5674b37f172cc75",
   "execution_count": 50
  },
  {
   "cell_type": "code",
   "outputs": [
    {
     "data": {
      "text/plain": "Country    122\ndtype: int64"
     },
     "execution_count": 23,
     "metadata": {},
     "output_type": "execute_result"
    }
   ],
   "source": [
    "pure_data[['Country']].count()"
   ],
   "metadata": {
    "collapsed": false,
    "ExecuteTime": {
     "end_time": "2024-02-24T13:05:21.369309300Z",
     "start_time": "2024-02-24T13:05:21.363652600Z"
    }
   },
   "id": "cafe2d580a6369e0",
   "execution_count": 23
  },
  {
   "cell_type": "code",
   "outputs": [
    {
     "data": {
      "text/plain": "23"
     },
     "execution_count": 46,
     "metadata": {},
     "output_type": "execute_result"
    }
   ],
   "source": [
    "pure_data.loc[(pure_data.Beer_PerCapita>200) & (pure_data.Spirit_PerCapita>100), 'Country'].count()"
   ],
   "metadata": {
    "collapsed": false,
    "ExecuteTime": {
     "end_time": "2024-02-24T13:27:31.448000100Z",
     "start_time": "2024-02-24T13:27:31.436228700Z"
    }
   },
   "id": "3e733b31b7b15356",
   "execution_count": 46
  },
  {
   "cell_type": "code",
   "outputs": [
    {
     "data": {
      "text/plain": "Beer_PerCapita    16783\ndtype: int64"
     },
     "execution_count": 25,
     "metadata": {},
     "output_type": "execute_result"
    }
   ],
   "source": [
    "pure_data[['Beer_PerCapita']].sum()"
   ],
   "metadata": {
    "collapsed": false,
    "ExecuteTime": {
     "end_time": "2024-02-24T13:07:29.579447600Z",
     "start_time": "2024-02-24T13:07:29.569162200Z"
    }
   },
   "id": "cf4d079081496526",
   "execution_count": 25
  },
  {
   "cell_type": "code",
   "outputs": [
    {
     "data": {
      "text/plain": "     Country                           Region Hemisphere  HappinessScore  HDI  \\\n32     Qatar  Middle East and Northern Africa      north           6.375  855   \n107    Haiti      Latin America and Caribbean      north           4.028  496   \n109  Comoros               Sub-Saharan Africa      south           3.956  502   \n\n     GDP_PerCapita  Beer_PerCapita  Spirit_PerCapita  Wine_PerCapita  \n32          59.324               1                42               7  \n107        735.000               1               326               1  \n109        775.000               1                 3               1  ",
      "text/html": "<div>\n<style scoped>\n    .dataframe tbody tr th:only-of-type {\n        vertical-align: middle;\n    }\n\n    .dataframe tbody tr th {\n        vertical-align: top;\n    }\n\n    .dataframe thead th {\n        text-align: right;\n    }\n</style>\n<table border=\"1\" class=\"dataframe\">\n  <thead>\n    <tr style=\"text-align: right;\">\n      <th></th>\n      <th>Country</th>\n      <th>Region</th>\n      <th>Hemisphere</th>\n      <th>HappinessScore</th>\n      <th>HDI</th>\n      <th>GDP_PerCapita</th>\n      <th>Beer_PerCapita</th>\n      <th>Spirit_PerCapita</th>\n      <th>Wine_PerCapita</th>\n    </tr>\n  </thead>\n  <tbody>\n    <tr>\n      <th>32</th>\n      <td>Qatar</td>\n      <td>Middle East and Northern Africa</td>\n      <td>north</td>\n      <td>6.375</td>\n      <td>855</td>\n      <td>59.324</td>\n      <td>1</td>\n      <td>42</td>\n      <td>7</td>\n    </tr>\n    <tr>\n      <th>107</th>\n      <td>Haiti</td>\n      <td>Latin America and Caribbean</td>\n      <td>north</td>\n      <td>4.028</td>\n      <td>496</td>\n      <td>735.000</td>\n      <td>1</td>\n      <td>326</td>\n      <td>1</td>\n    </tr>\n    <tr>\n      <th>109</th>\n      <td>Comoros</td>\n      <td>Sub-Saharan Africa</td>\n      <td>south</td>\n      <td>3.956</td>\n      <td>502</td>\n      <td>775.000</td>\n      <td>1</td>\n      <td>3</td>\n      <td>1</td>\n    </tr>\n  </tbody>\n</table>\n</div>"
     },
     "execution_count": 26,
     "metadata": {},
     "output_type": "execute_result"
    }
   ],
   "source": [
    "pure_data[pure_data.Beer_PerCapita==pure_data.Beer_PerCapita.min()]"
   ],
   "metadata": {
    "collapsed": false,
    "ExecuteTime": {
     "end_time": "2024-02-24T13:08:37.442740Z",
     "start_time": "2024-02-24T13:08:37.432122500Z"
    }
   },
   "id": "5449c3ad94d3e6a2",
   "execution_count": 26
  },
  {
   "cell_type": "code",
   "outputs": [
    {
     "data": {
      "text/plain": "    Country              Region Hemisphere  HappinessScore  HDI  \\\n90  Namibia  Sub-Saharan Africa      south           4.574  645   \n\n    GDP_PerCapita  Beer_PerCapita  Spirit_PerCapita  Wine_PerCapita  \n90          4.561             376                 3               1  ",
      "text/html": "<div>\n<style scoped>\n    .dataframe tbody tr th:only-of-type {\n        vertical-align: middle;\n    }\n\n    .dataframe tbody tr th {\n        vertical-align: top;\n    }\n\n    .dataframe thead th {\n        text-align: right;\n    }\n</style>\n<table border=\"1\" class=\"dataframe\">\n  <thead>\n    <tr style=\"text-align: right;\">\n      <th></th>\n      <th>Country</th>\n      <th>Region</th>\n      <th>Hemisphere</th>\n      <th>HappinessScore</th>\n      <th>HDI</th>\n      <th>GDP_PerCapita</th>\n      <th>Beer_PerCapita</th>\n      <th>Spirit_PerCapita</th>\n      <th>Wine_PerCapita</th>\n    </tr>\n  </thead>\n  <tbody>\n    <tr>\n      <th>90</th>\n      <td>Namibia</td>\n      <td>Sub-Saharan Africa</td>\n      <td>south</td>\n      <td>4.574</td>\n      <td>645</td>\n      <td>4.561</td>\n      <td>376</td>\n      <td>3</td>\n      <td>1</td>\n    </tr>\n  </tbody>\n</table>\n</div>"
     },
     "execution_count": 27,
     "metadata": {},
     "output_type": "execute_result"
    }
   ],
   "source": [
    "pure_data[pure_data.Beer_PerCapita==pure_data.Beer_PerCapita.max()]"
   ],
   "metadata": {
    "collapsed": false,
    "ExecuteTime": {
     "end_time": "2024-02-24T13:09:15.354165600Z",
     "start_time": "2024-02-24T13:09:15.343626700Z"
    }
   },
   "id": "d27cbb6734721ee1",
   "execution_count": 27
  },
  {
   "cell_type": "code",
   "outputs": [
    {
     "data": {
      "text/plain": "count    122.000000\nmean     137.565574\nstd      104.817353\nmin        1.000000\n25%       38.250000\n50%      125.500000\n75%      224.750000\nmax      376.000000\nName: Beer_PerCapita, dtype: float64"
     },
     "execution_count": 28,
     "metadata": {},
     "output_type": "execute_result"
    }
   ],
   "source": [
    "pure_data.Beer_PerCapita.describe()"
   ],
   "metadata": {
    "collapsed": false,
    "ExecuteTime": {
     "end_time": "2024-02-24T13:10:06.263009200Z",
     "start_time": "2024-02-24T13:10:06.248947300Z"
    }
   },
   "id": "97056a074692a56a",
   "execution_count": 28
  },
  {
   "cell_type": "code",
   "outputs": [
    {
     "data": {
      "text/plain": "137.5655737704918"
     },
     "execution_count": 29,
     "metadata": {},
     "output_type": "execute_result"
    }
   ],
   "source": [
    "pure_data.Beer_PerCapita.mean()"
   ],
   "metadata": {
    "collapsed": false,
    "ExecuteTime": {
     "end_time": "2024-02-24T13:10:23.772668800Z",
     "start_time": "2024-02-24T13:10:23.765509500Z"
    }
   },
   "id": "f0fa5205bde68957",
   "execution_count": 29
  },
  {
   "cell_type": "code",
   "outputs": [
    {
     "data": {
      "text/plain": "125.5"
     },
     "execution_count": 30,
     "metadata": {},
     "output_type": "execute_result"
    }
   ],
   "source": [
    "pure_data.Beer_PerCapita.median()"
   ],
   "metadata": {
    "collapsed": false,
    "ExecuteTime": {
     "end_time": "2024-02-24T13:10:32.284587Z",
     "start_time": "2024-02-24T13:10:32.275769500Z"
    }
   },
   "id": "c4623b036904d16d",
   "execution_count": 30
  },
  {
   "cell_type": "code",
   "outputs": [
    {
     "data": {
      "text/plain": "Region\nAustralia and New Zealand          232.000000\nCentral and Eastern Europe         170.074074\nEastern Asia                        93.250000\nLatin America and Caribbean        159.478261\nMiddle East and Northern Africa     24.818182\nNorth America                      244.500000\nSoutheastern Asia                   79.600000\nSub-Saharan Africa                  78.464286\nWestern Europe                     216.450000\nName: Beer_PerCapita, dtype: float64"
     },
     "execution_count": 31,
     "metadata": {},
     "output_type": "execute_result"
    }
   ],
   "source": [
    "pure_data.groupby('Region').Beer_PerCapita.mean()"
   ],
   "metadata": {
    "collapsed": false,
    "ExecuteTime": {
     "end_time": "2024-02-24T13:11:44.527234400Z",
     "start_time": "2024-02-24T13:11:44.519292400Z"
    }
   },
   "id": "1498e4a94288c135",
   "execution_count": 31
  },
  {
   "cell_type": "code",
   "outputs": [
    {
     "data": {
      "text/plain": "                                 Beer_PerCapita\nRegion                                         \nAustralia and New Zealand                   203\nCentral and Eastern Europe                   19\nEastern Asia                                 77\nLatin America and Caribbean                   1\nMiddle East and Northern Africa               1\nNorth America                               240\nSoutheastern Asia                            57\nSub-Saharan Africa                            1\nWestern Europe                               85",
      "text/html": "<div>\n<style scoped>\n    .dataframe tbody tr th:only-of-type {\n        vertical-align: middle;\n    }\n\n    .dataframe tbody tr th {\n        vertical-align: top;\n    }\n\n    .dataframe thead th {\n        text-align: right;\n    }\n</style>\n<table border=\"1\" class=\"dataframe\">\n  <thead>\n    <tr style=\"text-align: right;\">\n      <th></th>\n      <th>Beer_PerCapita</th>\n    </tr>\n    <tr>\n      <th>Region</th>\n      <th></th>\n    </tr>\n  </thead>\n  <tbody>\n    <tr>\n      <th>Australia and New Zealand</th>\n      <td>203</td>\n    </tr>\n    <tr>\n      <th>Central and Eastern Europe</th>\n      <td>19</td>\n    </tr>\n    <tr>\n      <th>Eastern Asia</th>\n      <td>77</td>\n    </tr>\n    <tr>\n      <th>Latin America and Caribbean</th>\n      <td>1</td>\n    </tr>\n    <tr>\n      <th>Middle East and Northern Africa</th>\n      <td>1</td>\n    </tr>\n    <tr>\n      <th>North America</th>\n      <td>240</td>\n    </tr>\n    <tr>\n      <th>Southeastern Asia</th>\n      <td>57</td>\n    </tr>\n    <tr>\n      <th>Sub-Saharan Africa</th>\n      <td>1</td>\n    </tr>\n    <tr>\n      <th>Western Europe</th>\n      <td>85</td>\n    </tr>\n  </tbody>\n</table>\n</div>"
     },
     "execution_count": 34,
     "metadata": {},
     "output_type": "execute_result"
    }
   ],
   "source": [
    "pure_data.groupby('Region').min()[['Beer_PerCapita']]"
   ],
   "metadata": {
    "collapsed": false,
    "ExecuteTime": {
     "end_time": "2024-02-24T13:13:19.369205Z",
     "start_time": "2024-02-24T13:13:19.360014500Z"
    }
   },
   "id": "70a1376f6fdfda3a",
   "execution_count": 34
  },
  {
   "cell_type": "code",
   "outputs": [
    {
     "data": {
      "text/plain": "                  Northern Hemisphere  Southern Hemisphere\nBeer_PerCapita                  12581                 3042\nSpirit_PerCapita                 9870                  839\nWine_PerCapita                   6707                 1332",
      "text/html": "<div>\n<style scoped>\n    .dataframe tbody tr th:only-of-type {\n        vertical-align: middle;\n    }\n\n    .dataframe tbody tr th {\n        vertical-align: top;\n    }\n\n    .dataframe thead th {\n        text-align: right;\n    }\n</style>\n<table border=\"1\" class=\"dataframe\">\n  <thead>\n    <tr style=\"text-align: right;\">\n      <th></th>\n      <th>Northern Hemisphere</th>\n      <th>Southern Hemisphere</th>\n    </tr>\n  </thead>\n  <tbody>\n    <tr>\n      <th>Beer_PerCapita</th>\n      <td>12581</td>\n      <td>3042</td>\n    </tr>\n    <tr>\n      <th>Spirit_PerCapita</th>\n      <td>9870</td>\n      <td>839</td>\n    </tr>\n    <tr>\n      <th>Wine_PerCapita</th>\n      <td>6707</td>\n      <td>1332</td>\n    </tr>\n  </tbody>\n</table>\n</div>"
     },
     "execution_count": 41,
     "metadata": {},
     "output_type": "execute_result"
    }
   ],
   "source": [
    "north_alcohol = pure_data[pure_data['Hemisphere'] == 'north'][['Beer_PerCapita', 'Spirit_PerCapita', 'Wine_PerCapita']].sum()\n",
    "south_alcohol = pure_data[pure_data['Hemisphere'] == 'south'][['Beer_PerCapita', 'Spirit_PerCapita', 'Wine_PerCapita']].sum()\n",
    "alcohol_comparison = pd.DataFrame({'Northern Hemisphere': north_alcohol, 'Southern Hemisphere': south_alcohol})\n",
    "alcohol_comparison"
   ],
   "metadata": {
    "collapsed": false,
    "ExecuteTime": {
     "end_time": "2024-02-24T13:24:50.289366900Z",
     "start_time": "2024-02-24T13:24:50.276952400Z"
    }
   },
   "id": "e173564f638b413b",
   "execution_count": 41
  },
  {
   "cell_type": "code",
   "outputs": [
    {
     "data": {
      "text/plain": "                                 HappinessScore  Beer_PerCapita\nRegion                                                         \nAustralia and New Zealand              7.323500      232.000000\nCentral and Eastern Europe             5.383444      170.074074\nEastern Asia                           5.477000       93.250000\nLatin America and Caribbean            6.061000      159.478261\nMiddle East and Northern Africa        5.443727       24.818182\nNorth America                          7.254000      244.500000\nSoutheastern Asia                      5.492000       79.600000\nSub-Saharan Africa                     4.151464       78.464286\nWestern Europe                         6.731400      216.450000",
      "text/html": "<div>\n<style scoped>\n    .dataframe tbody tr th:only-of-type {\n        vertical-align: middle;\n    }\n\n    .dataframe tbody tr th {\n        vertical-align: top;\n    }\n\n    .dataframe thead th {\n        text-align: right;\n    }\n</style>\n<table border=\"1\" class=\"dataframe\">\n  <thead>\n    <tr style=\"text-align: right;\">\n      <th></th>\n      <th>HappinessScore</th>\n      <th>Beer_PerCapita</th>\n    </tr>\n    <tr>\n      <th>Region</th>\n      <th></th>\n      <th></th>\n    </tr>\n  </thead>\n  <tbody>\n    <tr>\n      <th>Australia and New Zealand</th>\n      <td>7.323500</td>\n      <td>232.000000</td>\n    </tr>\n    <tr>\n      <th>Central and Eastern Europe</th>\n      <td>5.383444</td>\n      <td>170.074074</td>\n    </tr>\n    <tr>\n      <th>Eastern Asia</th>\n      <td>5.477000</td>\n      <td>93.250000</td>\n    </tr>\n    <tr>\n      <th>Latin America and Caribbean</th>\n      <td>6.061000</td>\n      <td>159.478261</td>\n    </tr>\n    <tr>\n      <th>Middle East and Northern Africa</th>\n      <td>5.443727</td>\n      <td>24.818182</td>\n    </tr>\n    <tr>\n      <th>North America</th>\n      <td>7.254000</td>\n      <td>244.500000</td>\n    </tr>\n    <tr>\n      <th>Southeastern Asia</th>\n      <td>5.492000</td>\n      <td>79.600000</td>\n    </tr>\n    <tr>\n      <th>Sub-Saharan Africa</th>\n      <td>4.151464</td>\n      <td>78.464286</td>\n    </tr>\n    <tr>\n      <th>Western Europe</th>\n      <td>6.731400</td>\n      <td>216.450000</td>\n    </tr>\n  </tbody>\n</table>\n</div>"
     },
     "execution_count": 40,
     "metadata": {},
     "output_type": "execute_result"
    }
   ],
   "source": [
    "pure_data.groupby('Region').agg({'HappinessScore': 'mean', 'Beer_PerCapita': 'mean'})"
   ],
   "metadata": {
    "collapsed": false,
    "ExecuteTime": {
     "end_time": "2024-02-24T13:23:56.008182800Z",
     "start_time": "2024-02-24T13:23:55.998002500Z"
    }
   },
   "id": "7f1314b0f08351a5",
   "execution_count": 40
  },
  {
   "cell_type": "code",
   "outputs": [],
   "source": [],
   "metadata": {
    "collapsed": false
   },
   "id": "43598d2de164a947"
  }
 ],
 "metadata": {
  "kernelspec": {
   "display_name": "Python 3",
   "language": "python",
   "name": "python3"
  },
  "language_info": {
   "codemirror_mode": {
    "name": "ipython",
    "version": 2
   },
   "file_extension": ".py",
   "mimetype": "text/x-python",
   "name": "python",
   "nbconvert_exporter": "python",
   "pygments_lexer": "ipython2",
   "version": "2.7.6"
  }
 },
 "nbformat": 4,
 "nbformat_minor": 5
}
