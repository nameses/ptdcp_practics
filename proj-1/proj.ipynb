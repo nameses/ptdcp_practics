{
 "cells": [
  {
   "cell_type": "code",
   "execution_count": 1,
   "id": "initial_id",
   "metadata": {
    "collapsed": true,
    "ExecuteTime": {
     "end_time": "2024-02-24T12:49:49.371534200Z",
     "start_time": "2024-02-24T12:49:49.068855700Z"
    }
   },
   "outputs": [],
   "source": [
    "import numpy as np"
   ]
  },
  {
   "cell_type": "code",
   "outputs": [],
   "source": [
    "import pandas as pd"
   ],
   "metadata": {
    "collapsed": false,
    "ExecuteTime": {
     "end_time": "2024-02-24T12:50:06.389486600Z",
     "start_time": "2024-02-24T12:50:05.506781700Z"
    }
   },
   "id": "ff4462d0b8bea3e7",
   "execution_count": 2
  },
  {
   "cell_type": "code",
   "outputs": [
    {
     "data": {
      "text/plain": "       Country  HDI  Beer_PerCapita\n0      Denmark  928             224\n1  Switzerland  943             185\n2      Iceland  933             233\n3       Norway  951             169\n4      Finland  918             263",
      "text/html": "<div>\n<style scoped>\n    .dataframe tbody tr th:only-of-type {\n        vertical-align: middle;\n    }\n\n    .dataframe tbody tr th {\n        vertical-align: top;\n    }\n\n    .dataframe thead th {\n        text-align: right;\n    }\n</style>\n<table border=\"1\" class=\"dataframe\">\n  <thead>\n    <tr style=\"text-align: right;\">\n      <th></th>\n      <th>Country</th>\n      <th>HDI</th>\n      <th>Beer_PerCapita</th>\n    </tr>\n  </thead>\n  <tbody>\n    <tr>\n      <th>0</th>\n      <td>Denmark</td>\n      <td>928</td>\n      <td>224</td>\n    </tr>\n    <tr>\n      <th>1</th>\n      <td>Switzerland</td>\n      <td>943</td>\n      <td>185</td>\n    </tr>\n    <tr>\n      <th>2</th>\n      <td>Iceland</td>\n      <td>933</td>\n      <td>233</td>\n    </tr>\n    <tr>\n      <th>3</th>\n      <td>Norway</td>\n      <td>951</td>\n      <td>169</td>\n    </tr>\n    <tr>\n      <th>4</th>\n      <td>Finland</td>\n      <td>918</td>\n      <td>263</td>\n    </tr>\n  </tbody>\n</table>\n</div>"
     },
     "execution_count": 14,
     "metadata": {},
     "output_type": "execute_result"
    }
   ],
   "source": [
    "pure_data = pd.read_csv('HappinessAlcoholConsumption.csv',delimiter=',')\n",
    "pure_data[['Country','HDI','Beer_PerCapita']].head()"
   ],
   "metadata": {
    "collapsed": false,
    "ExecuteTime": {
     "end_time": "2024-02-24T12:59:34.812066500Z",
     "start_time": "2024-02-24T12:59:34.798835200Z"
    }
   },
   "id": "91b7a9a1e2b07e04",
   "execution_count": 14
  },
  {
   "cell_type": "code",
   "outputs": [
    {
     "data": {
      "text/plain": "      Country                           Region Hemisphere  HappinessScore  \\\n117  Tanzania               Sub-Saharan Africa      south           3.666   \n118   Liberia               Sub-Saharan Africa      north           3.622   \n119     Benin               Sub-Saharan Africa      north           3.484   \n120      Togo               Sub-Saharan Africa      north           3.303   \n121     Syria  Middle East and Northern Africa      north           3.069   \n\n     HDI  GDP_PerCapita  Beer_PerCapita  Spirit_PerCapita  Wine_PerCapita  \n117  533        878.000              36                 6               1  \n118  432        455.000              19               152               2  \n119  512        789.000              34                 4              13  \n120  500        577.000              36                 2              19  \n121  536          2.058               5                35              16  ",
      "text/html": "<div>\n<style scoped>\n    .dataframe tbody tr th:only-of-type {\n        vertical-align: middle;\n    }\n\n    .dataframe tbody tr th {\n        vertical-align: top;\n    }\n\n    .dataframe thead th {\n        text-align: right;\n    }\n</style>\n<table border=\"1\" class=\"dataframe\">\n  <thead>\n    <tr style=\"text-align: right;\">\n      <th></th>\n      <th>Country</th>\n      <th>Region</th>\n      <th>Hemisphere</th>\n      <th>HappinessScore</th>\n      <th>HDI</th>\n      <th>GDP_PerCapita</th>\n      <th>Beer_PerCapita</th>\n      <th>Spirit_PerCapita</th>\n      <th>Wine_PerCapita</th>\n    </tr>\n  </thead>\n  <tbody>\n    <tr>\n      <th>117</th>\n      <td>Tanzania</td>\n      <td>Sub-Saharan Africa</td>\n      <td>south</td>\n      <td>3.666</td>\n      <td>533</td>\n      <td>878.000</td>\n      <td>36</td>\n      <td>6</td>\n      <td>1</td>\n    </tr>\n    <tr>\n      <th>118</th>\n      <td>Liberia</td>\n      <td>Sub-Saharan Africa</td>\n      <td>north</td>\n      <td>3.622</td>\n      <td>432</td>\n      <td>455.000</td>\n      <td>19</td>\n      <td>152</td>\n      <td>2</td>\n    </tr>\n    <tr>\n      <th>119</th>\n      <td>Benin</td>\n      <td>Sub-Saharan Africa</td>\n      <td>north</td>\n      <td>3.484</td>\n      <td>512</td>\n      <td>789.000</td>\n      <td>34</td>\n      <td>4</td>\n      <td>13</td>\n    </tr>\n    <tr>\n      <th>120</th>\n      <td>Togo</td>\n      <td>Sub-Saharan Africa</td>\n      <td>north</td>\n      <td>3.303</td>\n      <td>500</td>\n      <td>577.000</td>\n      <td>36</td>\n      <td>2</td>\n      <td>19</td>\n    </tr>\n    <tr>\n      <th>121</th>\n      <td>Syria</td>\n      <td>Middle East and Northern Africa</td>\n      <td>north</td>\n      <td>3.069</td>\n      <td>536</td>\n      <td>2.058</td>\n      <td>5</td>\n      <td>35</td>\n      <td>16</td>\n    </tr>\n  </tbody>\n</table>\n</div>"
     },
     "execution_count": 7,
     "metadata": {},
     "output_type": "execute_result"
    }
   ],
   "source": [
    "pure_data.tail()"
   ],
   "metadata": {
    "collapsed": false,
    "ExecuteTime": {
     "end_time": "2024-02-24T12:57:39.091219Z",
     "start_time": "2024-02-24T12:57:39.076777600Z"
    }
   },
   "id": "982d4702c2ca2ac0",
   "execution_count": 7
  },
  {
   "cell_type": "code",
   "outputs": [
    {
     "data": {
      "text/plain": "0          Denmark\n1      Switzerland\n2          Iceland\n3           Norway\n4          Finland\n          ...     \n117       Tanzania\n118        Liberia\n119          Benin\n120           Togo\n121          Syria\nName: Country, Length: 122, dtype: object"
     },
     "execution_count": 15,
     "metadata": {},
     "output_type": "execute_result"
    }
   ],
   "source": [
    "pure_data.Country"
   ],
   "metadata": {
    "collapsed": false,
    "ExecuteTime": {
     "end_time": "2024-02-24T13:00:34.546873200Z",
     "start_time": "2024-02-24T13:00:34.533400200Z"
    }
   },
   "id": "19337084e91594f2",
   "execution_count": 15
  },
  {
   "cell_type": "code",
   "outputs": [
    {
     "name": "stderr",
     "output_type": "stream",
     "text": [
      "C:\\Users\\maksp\\AppData\\Local\\Temp\\ipykernel_37384\\2499385653.py:1: UserWarning: Boolean Series key will be reindexed to match DataFrame index.\n",
      "  pure_data[pure_data.Beer_PerCapita>200][pure_data.Spirit_PerCapita>100][['Country','Beer_PerCapita','Spirit_PerCapita']]\n"
     ]
    },
    {
     "data": {
      "text/plain": "                Country  Beer_PerCapita  Spirit_PerCapita\n4               Finland             263               133\n5                Canada             240               122\n12        United States             249               158\n14              Germany             346               117\n15               Brazil             245               145\n17              Ireland             313               118\n18           Luxembourg             236               133\n21       United Kingdom             219               126\n23               Panama             285               104\n25       Czech Republic             361               170\n33                Spain             284               157\n45               Belize             263               114\n49   Russian Federation             247               326\n50               Poland             343               215\n53            Lithuania             343               244\n59               Latvia             281               216\n61             Paraguay             213               117\n62              Romania             297               122\n63              Estonia             224               194\n72               Serbia             283               131\n77              Hungary             234               215\n96              Ukraine             206               237\n102            Bulgaria             231               252",
      "text/html": "<div>\n<style scoped>\n    .dataframe tbody tr th:only-of-type {\n        vertical-align: middle;\n    }\n\n    .dataframe tbody tr th {\n        vertical-align: top;\n    }\n\n    .dataframe thead th {\n        text-align: right;\n    }\n</style>\n<table border=\"1\" class=\"dataframe\">\n  <thead>\n    <tr style=\"text-align: right;\">\n      <th></th>\n      <th>Country</th>\n      <th>Beer_PerCapita</th>\n      <th>Spirit_PerCapita</th>\n    </tr>\n  </thead>\n  <tbody>\n    <tr>\n      <th>4</th>\n      <td>Finland</td>\n      <td>263</td>\n      <td>133</td>\n    </tr>\n    <tr>\n      <th>5</th>\n      <td>Canada</td>\n      <td>240</td>\n      <td>122</td>\n    </tr>\n    <tr>\n      <th>12</th>\n      <td>United States</td>\n      <td>249</td>\n      <td>158</td>\n    </tr>\n    <tr>\n      <th>14</th>\n      <td>Germany</td>\n      <td>346</td>\n      <td>117</td>\n    </tr>\n    <tr>\n      <th>15</th>\n      <td>Brazil</td>\n      <td>245</td>\n      <td>145</td>\n    </tr>\n    <tr>\n      <th>17</th>\n      <td>Ireland</td>\n      <td>313</td>\n      <td>118</td>\n    </tr>\n    <tr>\n      <th>18</th>\n      <td>Luxembourg</td>\n      <td>236</td>\n      <td>133</td>\n    </tr>\n    <tr>\n      <th>21</th>\n      <td>United Kingdom</td>\n      <td>219</td>\n      <td>126</td>\n    </tr>\n    <tr>\n      <th>23</th>\n      <td>Panama</td>\n      <td>285</td>\n      <td>104</td>\n    </tr>\n    <tr>\n      <th>25</th>\n      <td>Czech Republic</td>\n      <td>361</td>\n      <td>170</td>\n    </tr>\n    <tr>\n      <th>33</th>\n      <td>Spain</td>\n      <td>284</td>\n      <td>157</td>\n    </tr>\n    <tr>\n      <th>45</th>\n      <td>Belize</td>\n      <td>263</td>\n      <td>114</td>\n    </tr>\n    <tr>\n      <th>49</th>\n      <td>Russian Federation</td>\n      <td>247</td>\n      <td>326</td>\n    </tr>\n    <tr>\n      <th>50</th>\n      <td>Poland</td>\n      <td>343</td>\n      <td>215</td>\n    </tr>\n    <tr>\n      <th>53</th>\n      <td>Lithuania</td>\n      <td>343</td>\n      <td>244</td>\n    </tr>\n    <tr>\n      <th>59</th>\n      <td>Latvia</td>\n      <td>281</td>\n      <td>216</td>\n    </tr>\n    <tr>\n      <th>61</th>\n      <td>Paraguay</td>\n      <td>213</td>\n      <td>117</td>\n    </tr>\n    <tr>\n      <th>62</th>\n      <td>Romania</td>\n      <td>297</td>\n      <td>122</td>\n    </tr>\n    <tr>\n      <th>63</th>\n      <td>Estonia</td>\n      <td>224</td>\n      <td>194</td>\n    </tr>\n    <tr>\n      <th>72</th>\n      <td>Serbia</td>\n      <td>283</td>\n      <td>131</td>\n    </tr>\n    <tr>\n      <th>77</th>\n      <td>Hungary</td>\n      <td>234</td>\n      <td>215</td>\n    </tr>\n    <tr>\n      <th>96</th>\n      <td>Ukraine</td>\n      <td>206</td>\n      <td>237</td>\n    </tr>\n    <tr>\n      <th>102</th>\n      <td>Bulgaria</td>\n      <td>231</td>\n      <td>252</td>\n    </tr>\n  </tbody>\n</table>\n</div>"
     },
     "execution_count": 47,
     "metadata": {},
     "output_type": "execute_result"
    }
   ],
   "source": [
    "pure_data[pure_data.Beer_PerCapita>200][pure_data.Spirit_PerCapita>100][['Country','Beer_PerCapita','Spirit_PerCapita']]"
   ],
   "metadata": {
    "collapsed": false,
    "ExecuteTime": {
     "end_time": "2024-02-24T13:27:41.596781600Z",
     "start_time": "2024-02-24T13:27:41.587269600Z"
    }
   },
   "id": "54901255c083cc44",
   "execution_count": 47
  },
  {
   "cell_type": "code",
   "outputs": [
    {
     "data": {
      "text/plain": "                Country  Beer_PerCapita  Spirit_PerCapita\n4               Finland             263               133\n5                Canada             240               122\n12        United States             249               158\n14              Germany             346               117\n15               Brazil             245               145\n17              Ireland             313               118\n18           Luxembourg             236               133\n21       United Kingdom             219               126\n23               Panama             285               104\n25       Czech Republic             361               170\n33                Spain             284               157\n45               Belize             263               114\n49   Russian Federation             247               326\n50               Poland             343               215\n53            Lithuania             343               244\n59               Latvia             281               216\n61             Paraguay             213               117\n62              Romania             297               122\n63              Estonia             224               194\n72               Serbia             283               131\n77              Hungary             234               215\n96              Ukraine             206               237\n102            Bulgaria             231               252",
      "text/html": "<div>\n<style scoped>\n    .dataframe tbody tr th:only-of-type {\n        vertical-align: middle;\n    }\n\n    .dataframe tbody tr th {\n        vertical-align: top;\n    }\n\n    .dataframe thead th {\n        text-align: right;\n    }\n</style>\n<table border=\"1\" class=\"dataframe\">\n  <thead>\n    <tr style=\"text-align: right;\">\n      <th></th>\n      <th>Country</th>\n      <th>Beer_PerCapita</th>\n      <th>Spirit_PerCapita</th>\n    </tr>\n  </thead>\n  <tbody>\n    <tr>\n      <th>4</th>\n      <td>Finland</td>\n      <td>263</td>\n      <td>133</td>\n    </tr>\n    <tr>\n      <th>5</th>\n      <td>Canada</td>\n      <td>240</td>\n      <td>122</td>\n    </tr>\n    <tr>\n      <th>12</th>\n      <td>United States</td>\n      <td>249</td>\n      <td>158</td>\n    </tr>\n    <tr>\n      <th>14</th>\n      <td>Germany</td>\n      <td>346</td>\n      <td>117</td>\n    </tr>\n    <tr>\n      <th>15</th>\n      <td>Brazil</td>\n      <td>245</td>\n      <td>145</td>\n    </tr>\n    <tr>\n      <th>17</th>\n      <td>Ireland</td>\n      <td>313</td>\n      <td>118</td>\n    </tr>\n    <tr>\n      <th>18</th>\n      <td>Luxembourg</td>\n      <td>236</td>\n      <td>133</td>\n    </tr>\n    <tr>\n      <th>21</th>\n      <td>United Kingdom</td>\n      <td>219</td>\n      <td>126</td>\n    </tr>\n    <tr>\n      <th>23</th>\n      <td>Panama</td>\n      <td>285</td>\n      <td>104</td>\n    </tr>\n    <tr>\n      <th>25</th>\n      <td>Czech Republic</td>\n      <td>361</td>\n      <td>170</td>\n    </tr>\n    <tr>\n      <th>33</th>\n      <td>Spain</td>\n      <td>284</td>\n      <td>157</td>\n    </tr>\n    <tr>\n      <th>45</th>\n      <td>Belize</td>\n      <td>263</td>\n      <td>114</td>\n    </tr>\n    <tr>\n      <th>49</th>\n      <td>Russian Federation</td>\n      <td>247</td>\n      <td>326</td>\n    </tr>\n    <tr>\n      <th>50</th>\n      <td>Poland</td>\n      <td>343</td>\n      <td>215</td>\n    </tr>\n    <tr>\n      <th>53</th>\n      <td>Lithuania</td>\n      <td>343</td>\n      <td>244</td>\n    </tr>\n    <tr>\n      <th>59</th>\n      <td>Latvia</td>\n      <td>281</td>\n      <td>216</td>\n    </tr>\n    <tr>\n      <th>61</th>\n      <td>Paraguay</td>\n      <td>213</td>\n      <td>117</td>\n    </tr>\n    <tr>\n      <th>62</th>\n      <td>Romania</td>\n      <td>297</td>\n      <td>122</td>\n    </tr>\n    <tr>\n      <th>63</th>\n      <td>Estonia</td>\n      <td>224</td>\n      <td>194</td>\n    </tr>\n    <tr>\n      <th>72</th>\n      <td>Serbia</td>\n      <td>283</td>\n      <td>131</td>\n    </tr>\n    <tr>\n      <th>77</th>\n      <td>Hungary</td>\n      <td>234</td>\n      <td>215</td>\n    </tr>\n    <tr>\n      <th>96</th>\n      <td>Ukraine</td>\n      <td>206</td>\n      <td>237</td>\n    </tr>\n    <tr>\n      <th>102</th>\n      <td>Bulgaria</td>\n      <td>231</td>\n      <td>252</td>\n    </tr>\n  </tbody>\n</table>\n</div>"
     },
     "execution_count": 50,
     "metadata": {},
     "output_type": "execute_result"
    }
   ],
   "source": [
    "pure_data.loc[(pure_data.Beer_PerCapita>200) & (pure_data.Spirit_PerCapita>100),['Country','Beer_PerCapita','Spirit_PerCapita']]"
   ],
   "metadata": {
    "collapsed": false,
    "ExecuteTime": {
     "end_time": "2024-02-24T13:29:52.512546700Z",
     "start_time": "2024-02-24T13:29:52.505795100Z"
    }
   },
   "id": "d5674b37f172cc75",
   "execution_count": 50
  },
  {
   "cell_type": "code",
   "outputs": [
    {
     "data": {
      "text/plain": "Country    122\ndtype: int64"
     },
     "execution_count": 23,
     "metadata": {},
     "output_type": "execute_result"
    }
   ],
   "source": [
    "pure_data[['Country']].count()"
   ],
   "metadata": {
    "collapsed": false,
    "ExecuteTime": {
     "end_time": "2024-02-24T13:05:21.369309300Z",
     "start_time": "2024-02-24T13:05:21.363652600Z"
    }
   },
   "id": "cafe2d580a6369e0",
   "execution_count": 23
  },
  {
   "cell_type": "code",
   "outputs": [
    {
     "data": {
      "text/plain": "23"
     },
     "execution_count": 46,
     "metadata": {},
     "output_type": "execute_result"
    }
   ],
   "source": [
    "pure_data.loc[(pure_data.Beer_PerCapita>200) & (pure_data.Spirit_PerCapita>100), 'Country'].count()"
   ],
   "metadata": {
    "collapsed": false,
    "ExecuteTime": {
     "end_time": "2024-02-24T13:27:31.448000100Z",
     "start_time": "2024-02-24T13:27:31.436228700Z"
    }
   },
   "id": "3e733b31b7b15356",
   "execution_count": 46
  },
  {
   "cell_type": "code",
   "outputs": [
    {
     "data": {
      "text/plain": "Beer_PerCapita    16783\ndtype: int64"
     },
     "execution_count": 25,
     "metadata": {},
     "output_type": "execute_result"
    }
   ],
   "source": [
    "pure_data[['Beer_PerCapita']].sum()"
   ],
   "metadata": {
    "collapsed": false,
    "ExecuteTime": {
     "end_time": "2024-02-24T13:07:29.579447600Z",
     "start_time": "2024-02-24T13:07:29.569162200Z"
    }
   },
   "id": "cf4d079081496526",
   "execution_count": 25
  },
  {
   "cell_type": "code",
   "outputs": [
    {
     "data": {
      "text/plain": "     Country                           Region Hemisphere  HappinessScore  HDI  \\\n32     Qatar  Middle East and Northern Africa      north           6.375  855   \n107    Haiti      Latin America and Caribbean      north           4.028  496   \n109  Comoros               Sub-Saharan Africa      south           3.956  502   \n\n     GDP_PerCapita  Beer_PerCapita  Spirit_PerCapita  Wine_PerCapita  \n32          59.324               1                42               7  \n107        735.000               1               326               1  \n109        775.000               1                 3               1  ",
      "text/html": "<div>\n<style scoped>\n    .dataframe tbody tr th:only-of-type {\n        vertical-align: middle;\n    }\n\n    .dataframe tbody tr th {\n        vertical-align: top;\n    }\n\n    .dataframe thead th {\n        text-align: right;\n    }\n</style>\n<table border=\"1\" class=\"dataframe\">\n  <thead>\n    <tr style=\"text-align: right;\">\n      <th></th>\n      <th>Country</th>\n      <th>Region</th>\n      <th>Hemisphere</th>\n      <th>HappinessScore</th>\n      <th>HDI</th>\n      <th>GDP_PerCapita</th>\n      <th>Beer_PerCapita</th>\n      <th>Spirit_PerCapita</th>\n      <th>Wine_PerCapita</th>\n    </tr>\n  </thead>\n  <tbody>\n    <tr>\n      <th>32</th>\n      <td>Qatar</td>\n      <td>Middle East and Northern Africa</td>\n      <td>north</td>\n      <td>6.375</td>\n      <td>855</td>\n      <td>59.324</td>\n      <td>1</td>\n      <td>42</td>\n      <td>7</td>\n    </tr>\n    <tr>\n      <th>107</th>\n      <td>Haiti</td>\n      <td>Latin America and Caribbean</td>\n      <td>north</td>\n      <td>4.028</td>\n      <td>496</td>\n      <td>735.000</td>\n      <td>1</td>\n      <td>326</td>\n      <td>1</td>\n    </tr>\n    <tr>\n      <th>109</th>\n      <td>Comoros</td>\n      <td>Sub-Saharan Africa</td>\n      <td>south</td>\n      <td>3.956</td>\n      <td>502</td>\n      <td>775.000</td>\n      <td>1</td>\n      <td>3</td>\n      <td>1</td>\n    </tr>\n  </tbody>\n</table>\n</div>"
     },
     "execution_count": 26,
     "metadata": {},
     "output_type": "execute_result"
    }
   ],
   "source": [
    "pure_data[pure_data.Beer_PerCapita==pure_data.Beer_PerCapita.min()]"
   ],
   "metadata": {
    "collapsed": false,
    "ExecuteTime": {
     "end_time": "2024-02-24T13:08:37.442740Z",
     "start_time": "2024-02-24T13:08:37.432122500Z"
    }
   },
   "id": "5449c3ad94d3e6a2",
   "execution_count": 26
  },
  {
   "cell_type": "code",
   "outputs": [
    {
     "data": {
      "text/plain": "    Country              Region Hemisphere  HappinessScore  HDI  \\\n90  Namibia  Sub-Saharan Africa      south           4.574  645   \n\n    GDP_PerCapita  Beer_PerCapita  Spirit_PerCapita  Wine_PerCapita  \n90          4.561             376                 3               1  ",
      "text/html": "<div>\n<style scoped>\n    .dataframe tbody tr th:only-of-type {\n        vertical-align: middle;\n    }\n\n    .dataframe tbody tr th {\n        vertical-align: top;\n    }\n\n    .dataframe thead th {\n        text-align: right;\n    }\n</style>\n<table border=\"1\" class=\"dataframe\">\n  <thead>\n    <tr style=\"text-align: right;\">\n      <th></th>\n      <th>Country</th>\n      <th>Region</th>\n      <th>Hemisphere</th>\n      <th>HappinessScore</th>\n      <th>HDI</th>\n      <th>GDP_PerCapita</th>\n      <th>Beer_PerCapita</th>\n      <th>Spirit_PerCapita</th>\n      <th>Wine_PerCapita</th>\n    </tr>\n  </thead>\n  <tbody>\n    <tr>\n      <th>90</th>\n      <td>Namibia</td>\n      <td>Sub-Saharan Africa</td>\n      <td>south</td>\n      <td>4.574</td>\n      <td>645</td>\n      <td>4.561</td>\n      <td>376</td>\n      <td>3</td>\n      <td>1</td>\n    </tr>\n  </tbody>\n</table>\n</div>"
     },
     "execution_count": 27,
     "metadata": {},
     "output_type": "execute_result"
    }
   ],
   "source": [
    "pure_data[pure_data.Beer_PerCapita==pure_data.Beer_PerCapita.max()]"
   ],
   "metadata": {
    "collapsed": false,
    "ExecuteTime": {
     "end_time": "2024-02-24T13:09:15.354165600Z",
     "start_time": "2024-02-24T13:09:15.343626700Z"
    }
   },
   "id": "d27cbb6734721ee1",
   "execution_count": 27
  },
  {
   "cell_type": "code",
   "outputs": [
    {
     "data": {
      "text/plain": "count    122.000000\nmean     137.565574\nstd      104.817353\nmin        1.000000\n25%       38.250000\n50%      125.500000\n75%      224.750000\nmax      376.000000\nName: Beer_PerCapita, dtype: float64"
     },
     "execution_count": 28,
     "metadata": {},
     "output_type": "execute_result"
    }
   ],
   "source": [
    "pure_data.Beer_PerCapita.describe()"
   ],
   "metadata": {
    "collapsed": false,
    "ExecuteTime": {
     "end_time": "2024-02-24T13:10:06.263009200Z",
     "start_time": "2024-02-24T13:10:06.248947300Z"
    }
   },
   "id": "97056a074692a56a",
   "execution_count": 28
  },
  {
   "cell_type": "code",
   "outputs": [
    {
     "data": {
      "text/plain": "137.5655737704918"
     },
     "execution_count": 29,
     "metadata": {},
     "output_type": "execute_result"
    }
   ],
   "source": [
    "pure_data.Beer_PerCapita.mean()"
   ],
   "metadata": {
    "collapsed": false,
    "ExecuteTime": {
     "end_time": "2024-02-24T13:10:23.772668800Z",
     "start_time": "2024-02-24T13:10:23.765509500Z"
    }
   },
   "id": "f0fa5205bde68957",
   "execution_count": 29
  },
  {
   "cell_type": "code",
   "outputs": [
    {
     "data": {
      "text/plain": "125.5"
     },
     "execution_count": 30,
     "metadata": {},
     "output_type": "execute_result"
    }
   ],
   "source": [
    "pure_data.Beer_PerCapita.median()"
   ],
   "metadata": {
    "collapsed": false,
    "ExecuteTime": {
     "end_time": "2024-02-24T13:10:32.284587Z",
     "start_time": "2024-02-24T13:10:32.275769500Z"
    }
   },
   "id": "c4623b036904d16d",
   "execution_count": 30
  },
  {
   "cell_type": "code",
   "outputs": [
    {
     "data": {
      "text/plain": "Region\nAustralia and New Zealand          232.000000\nCentral and Eastern Europe         170.074074\nEastern Asia                        93.250000\nLatin America and Caribbean        159.478261\nMiddle East and Northern Africa     24.818182\nNorth America                      244.500000\nSoutheastern Asia                   79.600000\nSub-Saharan Africa                  78.464286\nWestern Europe                     216.450000\nName: Beer_PerCapita, dtype: float64"
     },
     "execution_count": 31,
     "metadata": {},
     "output_type": "execute_result"
    }
   ],
   "source": [
    "pure_data.groupby('Region').Beer_PerCapita.mean()"
   ],
   "metadata": {
    "collapsed": false,
    "ExecuteTime": {
     "end_time": "2024-02-24T13:11:44.527234400Z",
     "start_time": "2024-02-24T13:11:44.519292400Z"
    }
   },
   "id": "1498e4a94288c135",
   "execution_count": 31
  },
  {
   "cell_type": "code",
   "outputs": [
    {
     "data": {
      "text/plain": "                                 Beer_PerCapita\nRegion                                         \nAustralia and New Zealand                   203\nCentral and Eastern Europe                   19\nEastern Asia                                 77\nLatin America and Caribbean                   1\nMiddle East and Northern Africa               1\nNorth America                               240\nSoutheastern Asia                            57\nSub-Saharan Africa                            1\nWestern Europe                               85",
      "text/html": "<div>\n<style scoped>\n    .dataframe tbody tr th:only-of-type {\n        vertical-align: middle;\n    }\n\n    .dataframe tbody tr th {\n        vertical-align: top;\n    }\n\n    .dataframe thead th {\n        text-align: right;\n    }\n</style>\n<table border=\"1\" class=\"dataframe\">\n  <thead>\n    <tr style=\"text-align: right;\">\n      <th></th>\n      <th>Beer_PerCapita</th>\n    </tr>\n    <tr>\n      <th>Region</th>\n      <th></th>\n    </tr>\n  </thead>\n  <tbody>\n    <tr>\n      <th>Australia and New Zealand</th>\n      <td>203</td>\n    </tr>\n    <tr>\n      <th>Central and Eastern Europe</th>\n      <td>19</td>\n    </tr>\n    <tr>\n      <th>Eastern Asia</th>\n      <td>77</td>\n    </tr>\n    <tr>\n      <th>Latin America and Caribbean</th>\n      <td>1</td>\n    </tr>\n    <tr>\n      <th>Middle East and Northern Africa</th>\n      <td>1</td>\n    </tr>\n    <tr>\n      <th>North America</th>\n      <td>240</td>\n    </tr>\n    <tr>\n      <th>Southeastern Asia</th>\n      <td>57</td>\n    </tr>\n    <tr>\n      <th>Sub-Saharan Africa</th>\n      <td>1</td>\n    </tr>\n    <tr>\n      <th>Western Europe</th>\n      <td>85</td>\n    </tr>\n  </tbody>\n</table>\n</div>"
     },
     "execution_count": 34,
     "metadata": {},
     "output_type": "execute_result"
    }
   ],
   "source": [
    "pure_data.groupby('Region').min()[['Beer_PerCapita']]"
   ],
   "metadata": {
    "collapsed": false,
    "ExecuteTime": {
     "end_time": "2024-02-24T13:13:19.369205Z",
     "start_time": "2024-02-24T13:13:19.360014500Z"
    }
   },
   "id": "70a1376f6fdfda3a",
   "execution_count": 34
  },
  {
   "cell_type": "code",
   "outputs": [
    {
     "data": {
      "text/plain": "                  Northern Hemisphere  Southern Hemisphere\nBeer_PerCapita                  12581                 3042\nSpirit_PerCapita                 9870                  839\nWine_PerCapita                   6707                 1332",
      "text/html": "<div>\n<style scoped>\n    .dataframe tbody tr th:only-of-type {\n        vertical-align: middle;\n    }\n\n    .dataframe tbody tr th {\n        vertical-align: top;\n    }\n\n    .dataframe thead th {\n        text-align: right;\n    }\n</style>\n<table border=\"1\" class=\"dataframe\">\n  <thead>\n    <tr style=\"text-align: right;\">\n      <th></th>\n      <th>Northern Hemisphere</th>\n      <th>Southern Hemisphere</th>\n    </tr>\n  </thead>\n  <tbody>\n    <tr>\n      <th>Beer_PerCapita</th>\n      <td>12581</td>\n      <td>3042</td>\n    </tr>\n    <tr>\n      <th>Spirit_PerCapita</th>\n      <td>9870</td>\n      <td>839</td>\n    </tr>\n    <tr>\n      <th>Wine_PerCapita</th>\n      <td>6707</td>\n      <td>1332</td>\n    </tr>\n  </tbody>\n</table>\n</div>"
     },
     "execution_count": 41,
     "metadata": {},
     "output_type": "execute_result"
    }
   ],
   "source": [
    "north_alcohol = pure_data[pure_data['Hemisphere'] == 'north'][['Beer_PerCapita', 'Spirit_PerCapita', 'Wine_PerCapita']].sum()\n",
    "south_alcohol = pure_data[pure_data['Hemisphere'] == 'south'][['Beer_PerCapita', 'Spirit_PerCapita', 'Wine_PerCapita']].sum()\n",
    "alcohol_comparison = pd.DataFrame({'Northern Hemisphere': north_alcohol, 'Southern Hemisphere': south_alcohol})\n",
    "alcohol_comparison"
   ],
   "metadata": {
    "collapsed": false,
    "ExecuteTime": {
     "end_time": "2024-02-24T13:24:50.289366900Z",
     "start_time": "2024-02-24T13:24:50.276952400Z"
    }
   },
   "id": "e173564f638b413b",
   "execution_count": 41
  },
  {
   "cell_type": "code",
   "outputs": [
    {
     "data": {
      "text/plain": "                                 HappinessScore  Beer_PerCapita\nRegion                                                         \nAustralia and New Zealand              7.323500      232.000000\nCentral and Eastern Europe             5.383444      170.074074\nEastern Asia                           5.477000       93.250000\nLatin America and Caribbean            6.061000      159.478261\nMiddle East and Northern Africa        5.443727       24.818182\nNorth America                          7.254000      244.500000\nSoutheastern Asia                      5.492000       79.600000\nSub-Saharan Africa                     4.151464       78.464286\nWestern Europe                         6.731400      216.450000",
      "text/html": "<div>\n<style scoped>\n    .dataframe tbody tr th:only-of-type {\n        vertical-align: middle;\n    }\n\n    .dataframe tbody tr th {\n        vertical-align: top;\n    }\n\n    .dataframe thead th {\n        text-align: right;\n    }\n</style>\n<table border=\"1\" class=\"dataframe\">\n  <thead>\n    <tr style=\"text-align: right;\">\n      <th></th>\n      <th>HappinessScore</th>\n      <th>Beer_PerCapita</th>\n    </tr>\n    <tr>\n      <th>Region</th>\n      <th></th>\n      <th></th>\n    </tr>\n  </thead>\n  <tbody>\n    <tr>\n      <th>Australia and New Zealand</th>\n      <td>7.323500</td>\n      <td>232.000000</td>\n    </tr>\n    <tr>\n      <th>Central and Eastern Europe</th>\n      <td>5.383444</td>\n      <td>170.074074</td>\n    </tr>\n    <tr>\n      <th>Eastern Asia</th>\n      <td>5.477000</td>\n      <td>93.250000</td>\n    </tr>\n    <tr>\n      <th>Latin America and Caribbean</th>\n      <td>6.061000</td>\n      <td>159.478261</td>\n    </tr>\n    <tr>\n      <th>Middle East and Northern Africa</th>\n      <td>5.443727</td>\n      <td>24.818182</td>\n    </tr>\n    <tr>\n      <th>North America</th>\n      <td>7.254000</td>\n      <td>244.500000</td>\n    </tr>\n    <tr>\n      <th>Southeastern Asia</th>\n      <td>5.492000</td>\n      <td>79.600000</td>\n    </tr>\n    <tr>\n      <th>Sub-Saharan Africa</th>\n      <td>4.151464</td>\n      <td>78.464286</td>\n    </tr>\n    <tr>\n      <th>Western Europe</th>\n      <td>6.731400</td>\n      <td>216.450000</td>\n    </tr>\n  </tbody>\n</table>\n</div>"
     },
     "execution_count": 40,
     "metadata": {},
     "output_type": "execute_result"
    }
   ],
   "source": [
    "pure_data.groupby('Region').agg({'HappinessScore': 'mean', 'Beer_PerCapita': 'mean'})"
   ],
   "metadata": {
    "collapsed": false,
    "ExecuteTime": {
     "end_time": "2024-02-24T13:23:56.008182800Z",
     "start_time": "2024-02-24T13:23:55.998002500Z"
    }
   },
   "id": "7f1314b0f08351a5",
   "execution_count": 40
  },
  {
   "cell_type": "code",
   "outputs": [
    {
     "ename": "AttributeError",
     "evalue": "'DataFrame' object has no attribute 'predict'",
     "output_type": "error",
     "traceback": [
      "\u001B[1;31m---------------------------------------------------------------------------\u001B[0m",
      "\u001B[1;31mAttributeError\u001B[0m                            Traceback (most recent call last)",
      "\u001B[1;32m~\\AppData\\Local\\Temp\\ipykernel_40200\\1624053184.py\u001B[0m in \u001B[0;36m?\u001B[1;34m()\u001B[0m\n\u001B[0;32m     16\u001B[0m \u001B[1;33m\u001B[0m\u001B[0m\n\u001B[0;32m     17\u001B[0m \u001B[0minput_data\u001B[0m \u001B[1;33m=\u001B[0m \u001B[1;33m{\u001B[0m\u001B[1;34m'title'\u001B[0m\u001B[1;33m:\u001B[0m \u001B[1;33m[\u001B[0m\u001B[1;34m'Hope'\u001B[0m\u001B[1;33m]\u001B[0m\u001B[1;33m,\u001B[0m \u001B[1;34m'genres'\u001B[0m\u001B[1;33m:\u001B[0m \u001B[1;33m[\u001B[0m\u001B[1;34m'Action'\u001B[0m\u001B[1;33m]\u001B[0m\u001B[1;33m,\u001B[0m \u001B[1;34m'average_rating'\u001B[0m\u001B[1;33m:\u001B[0m \u001B[1;33m[\u001B[0m\u001B[1;36m8.0\u001B[0m\u001B[1;33m]\u001B[0m\u001B[1;33m,\u001B[0m \u001B[1;34m'year'\u001B[0m\u001B[1;33m:\u001B[0m \u001B[1;33m[\u001B[0m\u001B[1;36m2024\u001B[0m\u001B[1;33m]\u001B[0m\u001B[1;33m}\u001B[0m\u001B[1;33m\u001B[0m\u001B[1;33m\u001B[0m\u001B[0m\n\u001B[0;32m     18\u001B[0m \u001B[0mdf\u001B[0m \u001B[1;33m=\u001B[0m \u001B[0mpd\u001B[0m\u001B[1;33m.\u001B[0m\u001B[0mDataFrame\u001B[0m\u001B[1;33m(\u001B[0m\u001B[0minput_data\u001B[0m\u001B[1;33m)\u001B[0m\u001B[1;33m\u001B[0m\u001B[1;33m\u001B[0m\u001B[0m\n\u001B[0;32m     19\u001B[0m \u001B[1;33m\u001B[0m\u001B[0m\n\u001B[1;32m---> 20\u001B[1;33m \u001B[0mprediction\u001B[0m \u001B[1;33m=\u001B[0m \u001B[0mmovie_data\u001B[0m\u001B[1;33m.\u001B[0m\u001B[0mpredict\u001B[0m\u001B[1;33m(\u001B[0m\u001B[0mdf\u001B[0m\u001B[1;33m[\u001B[0m\u001B[1;33m[\u001B[0m\u001B[1;34m'average_rating'\u001B[0m\u001B[1;33m,\u001B[0m \u001B[1;34m'year'\u001B[0m\u001B[1;33m]\u001B[0m\u001B[1;33m]\u001B[0m\u001B[1;33m)\u001B[0m\u001B[1;33m\u001B[0m\u001B[1;33m\u001B[0m\u001B[0m\n\u001B[0m",
      "\u001B[1;32m~\\AppData\\Local\\Programs\\Python\\Python312\\Lib\\site-packages\\pandas\\core\\generic.py\u001B[0m in \u001B[0;36m?\u001B[1;34m(self, name)\u001B[0m\n\u001B[0;32m   6292\u001B[0m             \u001B[1;32mand\u001B[0m \u001B[0mname\u001B[0m \u001B[1;32mnot\u001B[0m \u001B[1;32min\u001B[0m \u001B[0mself\u001B[0m\u001B[1;33m.\u001B[0m\u001B[0m_accessors\u001B[0m\u001B[1;33m\u001B[0m\u001B[1;33m\u001B[0m\u001B[0m\n\u001B[0;32m   6293\u001B[0m             \u001B[1;32mand\u001B[0m \u001B[0mself\u001B[0m\u001B[1;33m.\u001B[0m\u001B[0m_info_axis\u001B[0m\u001B[1;33m.\u001B[0m\u001B[0m_can_hold_identifiers_and_holds_name\u001B[0m\u001B[1;33m(\u001B[0m\u001B[0mname\u001B[0m\u001B[1;33m)\u001B[0m\u001B[1;33m\u001B[0m\u001B[1;33m\u001B[0m\u001B[0m\n\u001B[0;32m   6294\u001B[0m         \u001B[1;33m)\u001B[0m\u001B[1;33m:\u001B[0m\u001B[1;33m\u001B[0m\u001B[1;33m\u001B[0m\u001B[0m\n\u001B[0;32m   6295\u001B[0m             \u001B[1;32mreturn\u001B[0m \u001B[0mself\u001B[0m\u001B[1;33m[\u001B[0m\u001B[0mname\u001B[0m\u001B[1;33m]\u001B[0m\u001B[1;33m\u001B[0m\u001B[1;33m\u001B[0m\u001B[0m\n\u001B[1;32m-> 6296\u001B[1;33m         \u001B[1;32mreturn\u001B[0m \u001B[0mobject\u001B[0m\u001B[1;33m.\u001B[0m\u001B[0m__getattribute__\u001B[0m\u001B[1;33m(\u001B[0m\u001B[0mself\u001B[0m\u001B[1;33m,\u001B[0m \u001B[0mname\u001B[0m\u001B[1;33m)\u001B[0m\u001B[1;33m\u001B[0m\u001B[1;33m\u001B[0m\u001B[0m\n\u001B[0m",
      "\u001B[1;31mAttributeError\u001B[0m: 'DataFrame' object has no attribute 'predict'"
     ]
    }
   ],
   "source": [
    "import pandas as pd\n",
    "import joblib\n",
    "import sklearn\n",
    "\n",
    "movies = pd.read_csv('dataset/movies.csv')\n",
    "ratings = pd.read_csv('dataset/ratings.csv')\n",
    "\n",
    "movie_ratings = pd.merge(ratings, movies, on='movieId')\n",
    "\n",
    "movie_ratings['year'] = movie_ratings['title'].str.extract(r'\\((\\d{4})\\)', expand=False)\n",
    "\n",
    "movie_data = movie_ratings.groupby('title').agg(\n",
    "{'year': 'first', 'genres': 'first', 'rating': 'mean'}).reset_index()\n",
    "\n",
    "movie_data.columns = ['title', 'year', 'genres', 'average_rating']\n",
    "\n",
    "input_data = {'title': ['Hope'], 'genres': ['Action'], 'average_rating': [8.0], 'year': [2024]}\n",
    "df = pd.DataFrame(input_data)\n",
    "\n",
    "prediction = movie_data.predict(df[['average_rating', 'year']])"
   ],
   "metadata": {
    "collapsed": false,
    "ExecuteTime": {
     "end_time": "2024-03-02T20:31:12.557743300Z",
     "start_time": "2024-03-02T20:31:12.447803600Z"
    }
   },
   "id": "43598d2de164a947",
   "execution_count": 9
  },
  {
   "cell_type": "code",
   "outputs": [
    {
     "ename": "AttributeError",
     "evalue": "'DataFrame' object has no attribute 'predict'",
     "output_type": "error",
     "traceback": [
      "\u001B[1;31m---------------------------------------------------------------------------\u001B[0m",
      "\u001B[1;31mAttributeError\u001B[0m                            Traceback (most recent call last)",
      "\u001B[1;32m~\\AppData\\Local\\Temp\\ipykernel_40200\\1673264001.py\u001B[0m in \u001B[0;36m?\u001B[1;34m()\u001B[0m\n\u001B[0;32m     29\u001B[0m \u001B[0mgenres\u001B[0m \u001B[1;33m=\u001B[0m \u001B[1;34m'Action'\u001B[0m\u001B[1;33m\u001B[0m\u001B[1;33m\u001B[0m\u001B[0m\n\u001B[0;32m     30\u001B[0m \u001B[0maverage_rating\u001B[0m \u001B[1;33m=\u001B[0m \u001B[1;36m8.0\u001B[0m\u001B[1;33m\u001B[0m\u001B[1;33m\u001B[0m\u001B[0m\n\u001B[0;32m     31\u001B[0m \u001B[0myear\u001B[0m \u001B[1;33m=\u001B[0m \u001B[1;36m2024\u001B[0m\u001B[1;33m\u001B[0m\u001B[1;33m\u001B[0m\u001B[0m\n\u001B[0;32m     32\u001B[0m \u001B[1;33m\u001B[0m\u001B[0m\n\u001B[1;32m---> 33\u001B[1;33m \u001B[0mresult\u001B[0m \u001B[1;33m=\u001B[0m \u001B[0mpredict_movie_rating\u001B[0m\u001B[1;33m(\u001B[0m\u001B[0mtitle\u001B[0m\u001B[1;33m,\u001B[0m \u001B[0mgenres\u001B[0m\u001B[1;33m,\u001B[0m \u001B[0maverage_rating\u001B[0m\u001B[1;33m,\u001B[0m \u001B[0myear\u001B[0m\u001B[1;33m)\u001B[0m\u001B[1;33m\u001B[0m\u001B[1;33m\u001B[0m\u001B[0m\n\u001B[0m\u001B[0;32m     34\u001B[0m \u001B[0mprint\u001B[0m\u001B[1;33m(\u001B[0m\u001B[1;33mf\"\u001B[0m\u001B[1;33mPrediction for \u001B[0m\u001B[1;33m{\u001B[0m\u001B[0mtitle\u001B[0m\u001B[1;33m}\u001B[0m\u001B[1;33m: \u001B[0m\u001B[1;33m{\u001B[0m\u001B[0mresult\u001B[0m\u001B[1;33m}\u001B[0m\u001B[1;33m\"\u001B[0m\u001B[1;33m)\u001B[0m\u001B[1;33m\u001B[0m\u001B[1;33m\u001B[0m\u001B[0m\n\u001B[0;32m     35\u001B[0m \u001B[1;33m\u001B[0m\u001B[0m\n",
      "\u001B[1;32m~\\AppData\\Local\\Temp\\ipykernel_40200\\1673264001.py\u001B[0m in \u001B[0;36m?\u001B[1;34m(title, genres, average_rating, year)\u001B[0m\n\u001B[0;32m     19\u001B[0m     \u001B[1;31m# Create input data for prediction\u001B[0m\u001B[1;33m\u001B[0m\u001B[1;33m\u001B[0m\u001B[0m\n\u001B[0;32m     20\u001B[0m     \u001B[0minput_data\u001B[0m \u001B[1;33m=\u001B[0m \u001B[1;33m[\u001B[0m\u001B[1;33m[\u001B[0m\u001B[0mtitle\u001B[0m\u001B[1;33m,\u001B[0m \u001B[0mgenres_list\u001B[0m\u001B[1;33m,\u001B[0m \u001B[0maverage_rating\u001B[0m\u001B[1;33m,\u001B[0m \u001B[0myear\u001B[0m\u001B[1;33m]\u001B[0m\u001B[1;33m]\u001B[0m\u001B[1;33m\u001B[0m\u001B[1;33m\u001B[0m\u001B[0m\n\u001B[0;32m     21\u001B[0m \u001B[1;33m\u001B[0m\u001B[0m\n\u001B[0;32m     22\u001B[0m     \u001B[1;31m# Make prediction\u001B[0m\u001B[1;33m\u001B[0m\u001B[1;33m\u001B[0m\u001B[0m\n\u001B[1;32m---> 23\u001B[1;33m     \u001B[0mprediction\u001B[0m \u001B[1;33m=\u001B[0m \u001B[0mmodel\u001B[0m\u001B[1;33m.\u001B[0m\u001B[0mpredict\u001B[0m\u001B[1;33m(\u001B[0m\u001B[0minput_data\u001B[0m\u001B[1;33m)\u001B[0m\u001B[1;33m\u001B[0m\u001B[1;33m\u001B[0m\u001B[0m\n\u001B[0m\u001B[0;32m     24\u001B[0m \u001B[1;33m\u001B[0m\u001B[0m\n\u001B[0;32m     25\u001B[0m     \u001B[1;32mreturn\u001B[0m \u001B[0mprediction\u001B[0m\u001B[1;33m[\u001B[0m\u001B[1;36m0\u001B[0m\u001B[1;33m]\u001B[0m\u001B[1;33m\u001B[0m\u001B[1;33m\u001B[0m\u001B[0m\n",
      "\u001B[1;32m~\\AppData\\Local\\Programs\\Python\\Python312\\Lib\\site-packages\\pandas\\core\\generic.py\u001B[0m in \u001B[0;36m?\u001B[1;34m(self, name)\u001B[0m\n\u001B[0;32m   6292\u001B[0m             \u001B[1;32mand\u001B[0m \u001B[0mname\u001B[0m \u001B[1;32mnot\u001B[0m \u001B[1;32min\u001B[0m \u001B[0mself\u001B[0m\u001B[1;33m.\u001B[0m\u001B[0m_accessors\u001B[0m\u001B[1;33m\u001B[0m\u001B[1;33m\u001B[0m\u001B[0m\n\u001B[0;32m   6293\u001B[0m             \u001B[1;32mand\u001B[0m \u001B[0mself\u001B[0m\u001B[1;33m.\u001B[0m\u001B[0m_info_axis\u001B[0m\u001B[1;33m.\u001B[0m\u001B[0m_can_hold_identifiers_and_holds_name\u001B[0m\u001B[1;33m(\u001B[0m\u001B[0mname\u001B[0m\u001B[1;33m)\u001B[0m\u001B[1;33m\u001B[0m\u001B[1;33m\u001B[0m\u001B[0m\n\u001B[0;32m   6294\u001B[0m         \u001B[1;33m)\u001B[0m\u001B[1;33m:\u001B[0m\u001B[1;33m\u001B[0m\u001B[1;33m\u001B[0m\u001B[0m\n\u001B[0;32m   6295\u001B[0m             \u001B[1;32mreturn\u001B[0m \u001B[0mself\u001B[0m\u001B[1;33m[\u001B[0m\u001B[0mname\u001B[0m\u001B[1;33m]\u001B[0m\u001B[1;33m\u001B[0m\u001B[1;33m\u001B[0m\u001B[0m\n\u001B[1;32m-> 6296\u001B[1;33m         \u001B[1;32mreturn\u001B[0m \u001B[0mobject\u001B[0m\u001B[1;33m.\u001B[0m\u001B[0m__getattribute__\u001B[0m\u001B[1;33m(\u001B[0m\u001B[0mself\u001B[0m\u001B[1;33m,\u001B[0m \u001B[0mname\u001B[0m\u001B[1;33m)\u001B[0m\u001B[1;33m\u001B[0m\u001B[1;33m\u001B[0m\u001B[0m\n\u001B[0m",
      "\u001B[1;31mAttributeError\u001B[0m: 'DataFrame' object has no attribute 'predict'"
     ]
    }
   ],
   "source": [
    "import pandas as pd\n",
    "import joblib\n",
    "from sklearn.preprocessing import StandardScaler\n",
    "\n",
    "# Load the pre-trained machine learning model\n",
    "model = joblib.load('model.joblib')\n",
    "\n",
    "def predict_movie_rating(title, genres, average_rating, year):\n",
    "    # Create a DataFrame with the input data\n",
    "    input_data = {'title': [title], 'genres': [genres], 'average_rating': [average_rating], 'year': [year]}\n",
    "    df = pd.DataFrame(input_data)\n",
    "\n",
    "    # Modify genre input to match the model's expected format\n",
    "    genres_list = genres.split(\",\") if genres else []\n",
    "\n",
    "    # Convert to lowercase to match your model's genres\n",
    "    genres_list = [g.lower() for g in genres_list]\n",
    "\n",
    "    # Create input data for prediction\n",
    "    input_data = [[title, genres_list, average_rating, year]]\n",
    "\n",
    "    # Make prediction\n",
    "    prediction = model.predict(input_data)\n",
    "\n",
    "    return prediction[0]\n",
    "\n",
    "# Example usage\n",
    "title = 'Hope'\n",
    "genres = 'Action'\n",
    "average_rating = 8.0\n",
    "year = 2024\n",
    "\n",
    "result = predict_movie_rating(title, genres, average_rating, year)\n",
    "print(f\"Prediction for {title}: {result}\")\n"
   ],
   "metadata": {
    "collapsed": false,
    "ExecuteTime": {
     "end_time": "2024-03-02T20:32:33.813407Z",
     "start_time": "2024-03-02T20:32:33.753625300Z"
    }
   },
   "id": "2229450ea34dfbf4",
   "execution_count": 11
  },
  {
   "cell_type": "code",
   "outputs": [
    {
     "name": "stderr",
     "output_type": "stream",
     "text": [
      "C:\\Users\\maksp\\AppData\\Local\\Programs\\Python\\Python312\\Lib\\site-packages\\sklearn\\base.py:376: InconsistentVersionWarning: Trying to unpickle estimator DecisionTreeClassifier from version 1.2.2 when using version 1.4.1.post1. This might lead to breaking code or invalid results. Use at your own risk. For more info please refer to:\n",
      "https://scikit-learn.org/stable/model_persistence.html#security-maintainability-limitations\n",
      "  warnings.warn(\n"
     ]
    },
    {
     "ename": "ValueError",
     "evalue": "node array from the pickle has an incompatible dtype:\n- expected: {'names': ['left_child', 'right_child', 'feature', 'threshold', 'impurity', 'n_node_samples', 'weighted_n_node_samples', 'missing_go_to_left'], 'formats': ['<i8', '<i8', '<i8', '<f8', '<f8', '<i8', '<f8', 'u1'], 'offsets': [0, 8, 16, 24, 32, 40, 48, 56], 'itemsize': 64}\n- got     : [('left_child', '<i8'), ('right_child', '<i8'), ('feature', '<i8'), ('threshold', '<f8'), ('impurity', '<f8'), ('n_node_samples', '<i8'), ('weighted_n_node_samples', '<f8')]",
     "output_type": "error",
     "traceback": [
      "\u001B[1;31m---------------------------------------------------------------------------\u001B[0m",
      "\u001B[1;31mValueError\u001B[0m                                Traceback (most recent call last)",
      "Cell \u001B[1;32mIn[16], line 1\u001B[0m\n\u001B[1;32m----> 1\u001B[0m loaded_model \u001B[38;5;241m=\u001B[39m \u001B[43mjoblib\u001B[49m\u001B[38;5;241;43m.\u001B[39;49m\u001B[43mload\u001B[49m\u001B[43m(\u001B[49m\u001B[38;5;124;43m'\u001B[39;49m\u001B[38;5;124;43mrf_model.joblib\u001B[39;49m\u001B[38;5;124;43m'\u001B[39;49m\u001B[43m)\u001B[49m\n\u001B[0;32m      2\u001B[0m data \u001B[38;5;241m=\u001B[39m {\n\u001B[0;32m      3\u001B[0m     \u001B[38;5;124m'\u001B[39m\u001B[38;5;124malcohol\u001B[39m\u001B[38;5;124m'\u001B[39m: \u001B[38;5;241m10.442111\u001B[39m\n\u001B[0;32m      4\u001B[0m }\n\u001B[0;32m      5\u001B[0m results \u001B[38;5;241m=\u001B[39m {\u001B[38;5;124m'\u001B[39m\u001B[38;5;124mPoor\u001B[39m\u001B[38;5;124m'\u001B[39m: \u001B[38;5;124m'\u001B[39m\u001B[38;5;124mНизька якість. Опис: Вино має слабкий аромат та смак, можливі негативні аспекти.\u001B[39m\u001B[38;5;124m'\u001B[39m,\n\u001B[0;32m      6\u001B[0m            \u001B[38;5;124m'\u001B[39m\u001B[38;5;124mBelow Average\u001B[39m\u001B[38;5;124m'\u001B[39m: \u001B[38;5;124m'\u001B[39m\u001B[38;5;124mПомірна якість. Вино має середній аромат та смак, можливо, деякі позитивні характеристики.\u001B[39m\u001B[38;5;124m'\u001B[39m,\n\u001B[0;32m      7\u001B[0m            \u001B[38;5;124m'\u001B[39m\u001B[38;5;124mAverage\u001B[39m\u001B[38;5;124m'\u001B[39m: \u001B[38;5;124m'\u001B[39m\u001B[38;5;124mСередня якість. Вино має приємний аромат та смак, збалансоване та задовільно за всіма критеріями.\u001B[39m\u001B[38;5;124m'\u001B[39m,\n\u001B[0;32m      8\u001B[0m            \u001B[38;5;124m'\u001B[39m\u001B[38;5;124mGood\u001B[39m\u001B[38;5;124m'\u001B[39m: \u001B[38;5;124m'\u001B[39m\u001B[38;5;124mДобра якість. Вино вищого класу з вираженим ароматом, смаком та характером.\u001B[39m\u001B[38;5;124m'\u001B[39m,\n\u001B[0;32m      9\u001B[0m            \u001B[38;5;124m'\u001B[39m\u001B[38;5;124mVery Good\u001B[39m\u001B[38;5;124m'\u001B[39m: \u001B[38;5;124m'\u001B[39m\u001B[38;5;124mВисока якість. Вино виняткової якості з різноманітним букетом та вишуканим смаком.\u001B[39m\u001B[38;5;124m'\u001B[39m,\n\u001B[0;32m     10\u001B[0m            \u001B[38;5;124m'\u001B[39m\u001B[38;5;124mExcellent\u001B[39m\u001B[38;5;124m'\u001B[39m: \u001B[38;5;124m'\u001B[39m\u001B[38;5;124mВиняткова якість. Ідеальне вино, що вражає своєю глибиною, складністю та вишуканістю.\u001B[39m\u001B[38;5;124m'\u001B[39m}\n",
      "File \u001B[1;32m~\\AppData\\Local\\Programs\\Python\\Python312\\Lib\\site-packages\\joblib\\numpy_pickle.py:658\u001B[0m, in \u001B[0;36mload\u001B[1;34m(filename, mmap_mode)\u001B[0m\n\u001B[0;32m    652\u001B[0m             \u001B[38;5;28;01mif\u001B[39;00m \u001B[38;5;28misinstance\u001B[39m(fobj, \u001B[38;5;28mstr\u001B[39m):\n\u001B[0;32m    653\u001B[0m                 \u001B[38;5;66;03m# if the returned file object is a string, this means we\u001B[39;00m\n\u001B[0;32m    654\u001B[0m                 \u001B[38;5;66;03m# try to load a pickle file generated with an version of\u001B[39;00m\n\u001B[0;32m    655\u001B[0m                 \u001B[38;5;66;03m# Joblib so we load it with joblib compatibility function.\u001B[39;00m\n\u001B[0;32m    656\u001B[0m                 \u001B[38;5;28;01mreturn\u001B[39;00m load_compatibility(fobj)\n\u001B[1;32m--> 658\u001B[0m             obj \u001B[38;5;241m=\u001B[39m \u001B[43m_unpickle\u001B[49m\u001B[43m(\u001B[49m\u001B[43mfobj\u001B[49m\u001B[43m,\u001B[49m\u001B[43m \u001B[49m\u001B[43mfilename\u001B[49m\u001B[43m,\u001B[49m\u001B[43m \u001B[49m\u001B[43mmmap_mode\u001B[49m\u001B[43m)\u001B[49m\n\u001B[0;32m    659\u001B[0m \u001B[38;5;28;01mreturn\u001B[39;00m obj\n",
      "File \u001B[1;32m~\\AppData\\Local\\Programs\\Python\\Python312\\Lib\\site-packages\\joblib\\numpy_pickle.py:577\u001B[0m, in \u001B[0;36m_unpickle\u001B[1;34m(fobj, filename, mmap_mode)\u001B[0m\n\u001B[0;32m    575\u001B[0m obj \u001B[38;5;241m=\u001B[39m \u001B[38;5;28;01mNone\u001B[39;00m\n\u001B[0;32m    576\u001B[0m \u001B[38;5;28;01mtry\u001B[39;00m:\n\u001B[1;32m--> 577\u001B[0m     obj \u001B[38;5;241m=\u001B[39m \u001B[43munpickler\u001B[49m\u001B[38;5;241;43m.\u001B[39;49m\u001B[43mload\u001B[49m\u001B[43m(\u001B[49m\u001B[43m)\u001B[49m\n\u001B[0;32m    578\u001B[0m     \u001B[38;5;28;01mif\u001B[39;00m unpickler\u001B[38;5;241m.\u001B[39mcompat_mode:\n\u001B[0;32m    579\u001B[0m         warnings\u001B[38;5;241m.\u001B[39mwarn(\u001B[38;5;124m\"\u001B[39m\u001B[38;5;124mThe file \u001B[39m\u001B[38;5;124m'\u001B[39m\u001B[38;5;132;01m%s\u001B[39;00m\u001B[38;5;124m'\u001B[39m\u001B[38;5;124m has been generated with a \u001B[39m\u001B[38;5;124m\"\u001B[39m\n\u001B[0;32m    580\u001B[0m                       \u001B[38;5;124m\"\u001B[39m\u001B[38;5;124mjoblib version less than 0.10. \u001B[39m\u001B[38;5;124m\"\u001B[39m\n\u001B[0;32m    581\u001B[0m                       \u001B[38;5;124m\"\u001B[39m\u001B[38;5;124mPlease regenerate this pickle file.\u001B[39m\u001B[38;5;124m\"\u001B[39m\n\u001B[0;32m    582\u001B[0m                       \u001B[38;5;241m%\u001B[39m filename,\n\u001B[0;32m    583\u001B[0m                       \u001B[38;5;167;01mDeprecationWarning\u001B[39;00m, stacklevel\u001B[38;5;241m=\u001B[39m\u001B[38;5;241m3\u001B[39m)\n",
      "File \u001B[1;32m~\\AppData\\Local\\Programs\\Python\\Python312\\Lib\\pickle.py:1205\u001B[0m, in \u001B[0;36m_Unpickler.load\u001B[1;34m(self)\u001B[0m\n\u001B[0;32m   1203\u001B[0m             \u001B[38;5;28;01mraise\u001B[39;00m \u001B[38;5;167;01mEOFError\u001B[39;00m\n\u001B[0;32m   1204\u001B[0m         \u001B[38;5;28;01massert\u001B[39;00m \u001B[38;5;28misinstance\u001B[39m(key, bytes_types)\n\u001B[1;32m-> 1205\u001B[0m         \u001B[43mdispatch\u001B[49m\u001B[43m[\u001B[49m\u001B[43mkey\u001B[49m\u001B[43m[\u001B[49m\u001B[38;5;241;43m0\u001B[39;49m\u001B[43m]\u001B[49m\u001B[43m]\u001B[49m\u001B[43m(\u001B[49m\u001B[38;5;28;43mself\u001B[39;49m\u001B[43m)\u001B[49m\n\u001B[0;32m   1206\u001B[0m \u001B[38;5;28;01mexcept\u001B[39;00m _Stop \u001B[38;5;28;01mas\u001B[39;00m stopinst:\n\u001B[0;32m   1207\u001B[0m     \u001B[38;5;28;01mreturn\u001B[39;00m stopinst\u001B[38;5;241m.\u001B[39mvalue\n",
      "File \u001B[1;32m~\\AppData\\Local\\Programs\\Python\\Python312\\Lib\\site-packages\\joblib\\numpy_pickle.py:402\u001B[0m, in \u001B[0;36mNumpyUnpickler.load_build\u001B[1;34m(self)\u001B[0m\n\u001B[0;32m    394\u001B[0m \u001B[38;5;28;01mdef\u001B[39;00m \u001B[38;5;21mload_build\u001B[39m(\u001B[38;5;28mself\u001B[39m):\n\u001B[0;32m    395\u001B[0m \u001B[38;5;250m    \u001B[39m\u001B[38;5;124;03m\"\"\"Called to set the state of a newly created object.\u001B[39;00m\n\u001B[0;32m    396\u001B[0m \n\u001B[0;32m    397\u001B[0m \u001B[38;5;124;03m    We capture it to replace our place-holder objects, NDArrayWrapper or\u001B[39;00m\n\u001B[1;32m   (...)\u001B[0m\n\u001B[0;32m    400\u001B[0m \u001B[38;5;124;03m    NDArrayWrapper is used for backward compatibility with joblib <= 0.9.\u001B[39;00m\n\u001B[0;32m    401\u001B[0m \u001B[38;5;124;03m    \"\"\"\u001B[39;00m\n\u001B[1;32m--> 402\u001B[0m     \u001B[43mUnpickler\u001B[49m\u001B[38;5;241;43m.\u001B[39;49m\u001B[43mload_build\u001B[49m\u001B[43m(\u001B[49m\u001B[38;5;28;43mself\u001B[39;49m\u001B[43m)\u001B[49m\n\u001B[0;32m    404\u001B[0m     \u001B[38;5;66;03m# For backward compatibility, we support NDArrayWrapper objects.\u001B[39;00m\n\u001B[0;32m    405\u001B[0m     \u001B[38;5;28;01mif\u001B[39;00m \u001B[38;5;28misinstance\u001B[39m(\u001B[38;5;28mself\u001B[39m\u001B[38;5;241m.\u001B[39mstack[\u001B[38;5;241m-\u001B[39m\u001B[38;5;241m1\u001B[39m], (NDArrayWrapper, NumpyArrayWrapper)):\n",
      "File \u001B[1;32m~\\AppData\\Local\\Programs\\Python\\Python312\\Lib\\pickle.py:1710\u001B[0m, in \u001B[0;36m_Unpickler.load_build\u001B[1;34m(self)\u001B[0m\n\u001B[0;32m   1708\u001B[0m setstate \u001B[38;5;241m=\u001B[39m \u001B[38;5;28mgetattr\u001B[39m(inst, \u001B[38;5;124m\"\u001B[39m\u001B[38;5;124m__setstate__\u001B[39m\u001B[38;5;124m\"\u001B[39m, \u001B[38;5;28;01mNone\u001B[39;00m)\n\u001B[0;32m   1709\u001B[0m \u001B[38;5;28;01mif\u001B[39;00m setstate \u001B[38;5;129;01mis\u001B[39;00m \u001B[38;5;129;01mnot\u001B[39;00m \u001B[38;5;28;01mNone\u001B[39;00m:\n\u001B[1;32m-> 1710\u001B[0m     \u001B[43msetstate\u001B[49m\u001B[43m(\u001B[49m\u001B[43mstate\u001B[49m\u001B[43m)\u001B[49m\n\u001B[0;32m   1711\u001B[0m     \u001B[38;5;28;01mreturn\u001B[39;00m\n\u001B[0;32m   1712\u001B[0m slotstate \u001B[38;5;241m=\u001B[39m \u001B[38;5;28;01mNone\u001B[39;00m\n",
      "File \u001B[1;32msklearn\\\\tree\\\\_tree.pyx:865\u001B[0m, in \u001B[0;36msklearn.tree._tree.Tree.__setstate__\u001B[1;34m()\u001B[0m\n",
      "File \u001B[1;32msklearn\\\\tree\\\\_tree.pyx:1571\u001B[0m, in \u001B[0;36msklearn.tree._tree._check_node_ndarray\u001B[1;34m()\u001B[0m\n",
      "\u001B[1;31mValueError\u001B[0m: node array from the pickle has an incompatible dtype:\n- expected: {'names': ['left_child', 'right_child', 'feature', 'threshold', 'impurity', 'n_node_samples', 'weighted_n_node_samples', 'missing_go_to_left'], 'formats': ['<i8', '<i8', '<i8', '<f8', '<f8', '<i8', '<f8', 'u1'], 'offsets': [0, 8, 16, 24, 32, 40, 48, 56], 'itemsize': 64}\n- got     : [('left_child', '<i8'), ('right_child', '<i8'), ('feature', '<i8'), ('threshold', '<f8'), ('impurity', '<f8'), ('n_node_samples', '<i8'), ('weighted_n_node_samples', '<f8')]"
     ]
    }
   ],
   "source": [
    "loaded_model = joblib.load('rf_model.joblib')\n",
    "data = {\n",
    "    'alcohol': 10.442111\n",
    "}\n",
    "results = {'Poor': 'Низька якість. Опис: Вино має слабкий аромат та смак, можливі негативні аспекти.',\n",
    "           'Below Average': 'Помірна якість. Вино має середній аромат та смак, можливо, деякі позитивні характеристики.',\n",
    "           'Average': 'Середня якість. Вино має приємний аромат та смак, збалансоване та задовільно за всіма критеріями.',\n",
    "           'Good': 'Добра якість. Вино вищого класу з вираженим ароматом, смаком та характером.',\n",
    "           'Very Good': 'Висока якість. Вино виняткової якості з різноманітним букетом та вишуканим смаком.',\n",
    "           'Excellent': 'Виняткова якість. Ідеальне вино, що вражає своєю глибиною, складністю та вишуканістю.'}\n",
    "df = pd.DataFrame(data)\n",
    "result = loaded_model.predict(df)\n",
    "print(result)"
   ],
   "metadata": {
    "collapsed": false,
    "ExecuteTime": {
     "end_time": "2024-03-02T20:36:46.502217300Z",
     "start_time": "2024-03-02T20:36:46.452390400Z"
    }
   },
   "id": "add9c2755419b800",
   "execution_count": 16
  },
  {
   "cell_type": "code",
   "outputs": [
    {
     "ename": "IndexError",
     "evalue": "index 0 is out of bounds for axis 0 with size 0",
     "output_type": "error",
     "traceback": [
      "\u001B[1;31m---------------------------------------------------------------------------\u001B[0m",
      "\u001B[1;31mIndexError\u001B[0m                                Traceback (most recent call last)",
      "Cell \u001B[1;32mIn[21], line 38\u001B[0m\n\u001B[0;32m     36\u001B[0m input_data \u001B[38;5;241m=\u001B[39m {\u001B[38;5;124m'\u001B[39m\u001B[38;5;124mtitle\u001B[39m\u001B[38;5;124m'\u001B[39m: [\u001B[38;5;124m'\u001B[39m\u001B[38;5;124mHope\u001B[39m\u001B[38;5;124m'\u001B[39m], \u001B[38;5;124m'\u001B[39m\u001B[38;5;124mgenres\u001B[39m\u001B[38;5;124m'\u001B[39m: [\u001B[38;5;124m'\u001B[39m\u001B[38;5;124mAction\u001B[39m\u001B[38;5;124m'\u001B[39m], \u001B[38;5;124m'\u001B[39m\u001B[38;5;124maverage_rating\u001B[39m\u001B[38;5;124m'\u001B[39m: [\u001B[38;5;241m8.0\u001B[39m], \u001B[38;5;124m'\u001B[39m\u001B[38;5;124myear\u001B[39m\u001B[38;5;124m'\u001B[39m: [\u001B[38;5;241m2024\u001B[39m]}\n\u001B[0;32m     37\u001B[0m df \u001B[38;5;241m=\u001B[39m pd\u001B[38;5;241m.\u001B[39mDataFrame(input_data)\n\u001B[1;32m---> 38\u001B[0m result_df \u001B[38;5;241m=\u001B[39m \u001B[43mcustom_predict_movie_ratings\u001B[49m\u001B[43m(\u001B[49m\u001B[43mdf\u001B[49m\u001B[43m)\u001B[49m\n\u001B[0;32m     40\u001B[0m \u001B[38;5;66;03m# Display the resulting DataFrame\u001B[39;00m\n\u001B[0;32m     41\u001B[0m \u001B[38;5;28mprint\u001B[39m(result_df)\n",
      "Cell \u001B[1;32mIn[21], line 22\u001B[0m, in \u001B[0;36mcustom_predict_movie_ratings\u001B[1;34m(movie_data)\u001B[0m\n\u001B[0;32m     18\u001B[0m     genres_list \u001B[38;5;241m=\u001B[39m [g\u001B[38;5;241m.\u001B[39mlower() \u001B[38;5;28;01mfor\u001B[39;00m g \u001B[38;5;129;01min\u001B[39;00m genres_list]\n\u001B[0;32m     20\u001B[0m     input_data \u001B[38;5;241m=\u001B[39m [[title, genres_list, average_rating, year]]\n\u001B[1;32m---> 22\u001B[0m     prediction \u001B[38;5;241m=\u001B[39m \u001B[43mcustom_decision_tree_predict\u001B[49m\u001B[43m(\u001B[49m\u001B[43mmodel\u001B[49m\u001B[43m,\u001B[49m\u001B[43m \u001B[49m\u001B[43minput_data\u001B[49m\u001B[43m)\u001B[49m\n\u001B[0;32m     24\u001B[0m     predicted_ratings\u001B[38;5;241m.\u001B[39mappend(prediction)\n\u001B[0;32m     26\u001B[0m \u001B[38;5;66;03m# Add the predicted ratings to the DataFrame\u001B[39;00m\n",
      "Cell \u001B[1;32mIn[21], line 32\u001B[0m, in \u001B[0;36mcustom_decision_tree_predict\u001B[1;34m(model, input_data)\u001B[0m\n\u001B[0;32m     31\u001B[0m \u001B[38;5;28;01mdef\u001B[39;00m \u001B[38;5;21mcustom_decision_tree_predict\u001B[39m(model, input_data):\n\u001B[1;32m---> 32\u001B[0m     prediction \u001B[38;5;241m=\u001B[39m \u001B[43mmodel\u001B[49m\u001B[38;5;241;43m.\u001B[39;49m\u001B[43mloc\u001B[49m\u001B[43m[\u001B[49m\u001B[43mmodel\u001B[49m\u001B[43m[\u001B[49m\u001B[38;5;124;43m'\u001B[39;49m\u001B[38;5;124;43mtitle\u001B[39;49m\u001B[38;5;124;43m'\u001B[39;49m\u001B[43m]\u001B[49m\u001B[43m \u001B[49m\u001B[38;5;241;43m==\u001B[39;49m\u001B[43m \u001B[49m\u001B[43minput_data\u001B[49m\u001B[43m[\u001B[49m\u001B[38;5;241;43m0\u001B[39;49m\u001B[43m]\u001B[49m\u001B[43m[\u001B[49m\u001B[38;5;241;43m0\u001B[39;49m\u001B[43m]\u001B[49m\u001B[43m,\u001B[49m\u001B[43m \u001B[49m\u001B[38;5;124;43m'\u001B[39;49m\u001B[38;5;124;43maverage_rating\u001B[39;49m\u001B[38;5;124;43m'\u001B[39;49m\u001B[43m]\u001B[49m\u001B[38;5;241;43m.\u001B[39;49m\u001B[43mvalues\u001B[49m\u001B[43m[\u001B[49m\u001B[38;5;241;43m0\u001B[39;49m\u001B[43m]\u001B[49m\n\u001B[0;32m     34\u001B[0m     \u001B[38;5;28;01mreturn\u001B[39;00m prediction[\u001B[38;5;241m0\u001B[39m]\n",
      "\u001B[1;31mIndexError\u001B[0m: index 0 is out of bounds for axis 0 with size 0"
     ]
    }
   ],
   "source": [
    "model = joblib.load('model.joblib')\n",
    "\n",
    "def custom_predict_movie_ratings(movie_data):\n",
    "    predicted_ratings = []\n",
    "\n",
    "    scaler = StandardScaler()\n",
    "    numerical_features = ['average_rating', 'year']\n",
    "    movie_data[numerical_features] = scaler.fit_transform(movie_data[numerical_features])\n",
    "\n",
    "    for index, row in movie_data.iterrows():\n",
    "        title = row['title']\n",
    "        genres = row['genres']\n",
    "        average_rating = row['average_rating']\n",
    "        year = row['year']\n",
    "\n",
    "        genres_list = genres.split(\",\") if genres else []\n",
    "\n",
    "        genres_list = [g.lower() for g in genres_list]\n",
    "\n",
    "        input_data = [[title, genres_list, average_rating, year]]\n",
    "\n",
    "        prediction = custom_decision_tree_predict(model, input_data)\n",
    "\n",
    "        predicted_ratings.append(prediction)\n",
    "\n",
    "    # Add the predicted ratings to the DataFrame\n",
    "    movie_data['predicted_rating'] = predicted_ratings\n",
    "\n",
    "    return movie_data[['title', 'predicted_rating']]\n",
    "\n",
    "def custom_decision_tree_predict(model, input_data):\n",
    "    prediction = model.loc[model['title'] == input_data[0][0], 'average_rating'].values[0]\n",
    "    \n",
    "    return prediction[0]\n",
    "\n",
    "input_data = {'title': ['Hope'], 'genres': ['Action'], 'average_rating': [8.0], 'year': [2024]}\n",
    "df = pd.DataFrame(input_data)\n",
    "result_df = custom_predict_movie_ratings(df)\n",
    "\n",
    "# Display the resulting DataFrame\n",
    "print(result_df)"
   ],
   "metadata": {
    "collapsed": false,
    "ExecuteTime": {
     "end_time": "2024-03-02T20:53:14.561024700Z",
     "start_time": "2024-03-02T20:53:14.528274800Z"
    }
   },
   "id": "10a139eeb6571b46",
   "execution_count": 21
  },
  {
   "cell_type": "code",
   "outputs": [],
   "source": [],
   "metadata": {
    "collapsed": false
   },
   "id": "225bc7251ebda5c1"
  }
 ],
 "metadata": {
  "kernelspec": {
   "display_name": "Python 3",
   "language": "python",
   "name": "python3"
  },
  "language_info": {
   "codemirror_mode": {
    "name": "ipython",
    "version": 2
   },
   "file_extension": ".py",
   "mimetype": "text/x-python",
   "name": "python",
   "nbconvert_exporter": "python",
   "pygments_lexer": "ipython2",
   "version": "2.7.6"
  }
 },
 "nbformat": 4,
 "nbformat_minor": 5
}
